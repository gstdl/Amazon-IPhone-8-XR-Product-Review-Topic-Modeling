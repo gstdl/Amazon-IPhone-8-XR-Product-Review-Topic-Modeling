{
 "cells": [
  {
   "cell_type": "markdown",
   "metadata": {},
   "source": [
    "## Introduction"
   ]
  },
  {
   "cell_type": "code",
   "execution_count": 1,
   "metadata": {
    "ExecuteTime": {
     "end_time": "2020-09-30T15:08:20.643312Z",
     "start_time": "2020-09-30T15:08:18.830520Z"
    },
    "scrolled": false
   },
   "outputs": [
    {
     "name": "stdout",
     "output_type": "stream",
     "text": [
      "\u001b[34mfrom\u001b[39;49;00m \u001b[04m\u001b[36mgensim\u001b[39;49;00m \u001b[34mimport\u001b[39;49;00m corpora, models\r\n",
      "\u001b[34mimport\u001b[39;49;00m \u001b[04m\u001b[36mpyLDAvis\u001b[39;49;00m\r\n",
      "\u001b[34mimport\u001b[39;49;00m \u001b[04m\u001b[36mpyLDAvis\u001b[39;49;00m\u001b[04m\u001b[36m.\u001b[39;49;00m\u001b[04m\u001b[36mgensim\u001b[39;49;00m\r\n",
      "\u001b[34mimport\u001b[39;49;00m \u001b[04m\u001b[36mnumpy\u001b[39;49;00m \u001b[34mas\u001b[39;49;00m \u001b[04m\u001b[36mnp\u001b[39;49;00m\r\n",
      "\u001b[34mimport\u001b[39;49;00m \u001b[04m\u001b[36mmatplotlib\u001b[39;49;00m\u001b[04m\u001b[36m.\u001b[39;49;00m\u001b[04m\u001b[36mpyplot\u001b[39;49;00m \u001b[34mas\u001b[39;49;00m \u001b[04m\u001b[36mplt\u001b[39;49;00m\r\n",
      "\u001b[34mfrom\u001b[39;49;00m \u001b[04m\u001b[36mwordcloud\u001b[39;49;00m \u001b[34mimport\u001b[39;49;00m WordCloud\r\n",
      "\u001b[34mfrom\u001b[39;49;00m \u001b[04m\u001b[36mtqdm\u001b[39;49;00m \u001b[34mimport\u001b[39;49;00m tqdm\r\n",
      "\r\n",
      "plt.rcParams[\u001b[33m\"\u001b[39;49;00m\u001b[33mfigure.figsize\u001b[39;49;00m\u001b[33m\"\u001b[39;49;00m] = (\u001b[34m22\u001b[39;49;00m, \u001b[34m10\u001b[39;49;00m)\r\n",
      "plt.style.use(\u001b[33m\"\u001b[39;49;00m\u001b[33mseaborn-whitegrid\u001b[39;49;00m\u001b[33m\"\u001b[39;49;00m)\r\n",
      "\r\n",
      "\r\n",
      "\u001b[34mclass\u001b[39;49;00m \u001b[04m\u001b[32mLDA\u001b[39;49;00m:\r\n",
      "    \u001b[34mdef\u001b[39;49;00m \u001b[32m__init__\u001b[39;49;00m(\u001b[36mself\u001b[39;49;00m, training_samples):\r\n",
      "        \u001b[36mself\u001b[39;49;00m.texts = training_samples\r\n",
      "        \u001b[36mself\u001b[39;49;00m.docs = [data.split() \u001b[34mfor\u001b[39;49;00m data \u001b[35min\u001b[39;49;00m \u001b[36mself\u001b[39;49;00m.texts]\r\n",
      "        \u001b[36mself\u001b[39;49;00m.dictionary = corpora.Dictionary(\u001b[36mself\u001b[39;49;00m.docs)\r\n",
      "        \u001b[36mself\u001b[39;49;00m.bow_corpus = [\u001b[36mself\u001b[39;49;00m.dictionary.doc2bow(doc) \u001b[34mfor\u001b[39;49;00m doc \u001b[35min\u001b[39;49;00m \u001b[36mself\u001b[39;49;00m.docs]\r\n",
      "\r\n",
      "    \u001b[34mdef\u001b[39;49;00m \u001b[32m__iter__\u001b[39;49;00m(\u001b[36mself\u001b[39;49;00m):\r\n",
      "        \u001b[36mself\u001b[39;49;00m.length = \u001b[36mlen\u001b[39;49;00m(\u001b[36mself\u001b[39;49;00m.texts)\r\n",
      "        \u001b[36mself\u001b[39;49;00m.n = \u001b[34m0\u001b[39;49;00m\r\n",
      "        \u001b[34mreturn\u001b[39;49;00m \u001b[36mself\u001b[39;49;00m\r\n",
      "\r\n",
      "    \u001b[34mdef\u001b[39;49;00m \u001b[32m__next__\u001b[39;49;00m(\u001b[36mself\u001b[39;49;00m):\r\n",
      "        token = \u001b[36mself\u001b[39;49;00m.bow_corpus[\u001b[36mself\u001b[39;49;00m.n]\r\n",
      "        \u001b[36mself\u001b[39;49;00m.n += \u001b[34m1\u001b[39;49;00m\r\n",
      "        \u001b[34mif\u001b[39;49;00m \u001b[36mself\u001b[39;49;00m.n == \u001b[36mself\u001b[39;49;00m.length:\r\n",
      "            \u001b[36mself\u001b[39;49;00m.n == \u001b[34m1\u001b[39;49;00m\r\n",
      "        \u001b[34mreturn\u001b[39;49;00m [(\u001b[36mself\u001b[39;49;00m.dictionary[ii], freq) \u001b[34mfor\u001b[39;49;00m ii, freq \u001b[35min\u001b[39;49;00m token]\r\n",
      "\r\n",
      "    \u001b[34mdef\u001b[39;49;00m \u001b[32mfilter_extremes\u001b[39;49;00m(\u001b[36mself\u001b[39;49;00m, keep_n, no_below, no_above):\r\n",
      "        \u001b[36mself\u001b[39;49;00m.dictionary.filter_extremes(\r\n",
      "            keep_n=keep_n, no_below=no_below, no_above=no_above\r\n",
      "        )\r\n",
      "        \u001b[36mself\u001b[39;49;00m.bow_corpus = [\u001b[36mself\u001b[39;49;00m.dictionary.doc2bow(doc) \u001b[34mfor\u001b[39;49;00m doc \u001b[35min\u001b[39;49;00m \u001b[36mself\u001b[39;49;00m.docs]\r\n",
      "\r\n",
      "    \u001b[34mdef\u001b[39;49;00m \u001b[32mfit\u001b[39;49;00m(\r\n",
      "        \u001b[36mself\u001b[39;49;00m,\r\n",
      "        num_topics,\r\n",
      "        alpha=\u001b[33m\"\u001b[39;49;00m\u001b[33msymmetric\u001b[39;49;00m\u001b[33m\"\u001b[39;49;00m,\r\n",
      "        beta=\u001b[34mNone\u001b[39;49;00m,\r\n",
      "        passes=\u001b[34m2\u001b[39;49;00m,\r\n",
      "        random_state=\u001b[34m9\u001b[39;49;00m,\r\n",
      "        tuning=\u001b[34mFalse\u001b[39;49;00m,\r\n",
      "        predict_training_samples=\u001b[34mFalse\u001b[39;49;00m,\r\n",
      "    ):\r\n",
      "        \u001b[36mself\u001b[39;49;00m.model = models.ldamodel.LdaModel(\r\n",
      "            \u001b[36mself\u001b[39;49;00m.bow_corpus,\r\n",
      "            num_topics=num_topics,\r\n",
      "            alpha=alpha,\r\n",
      "            eta=beta,\r\n",
      "            id2word=\u001b[36mself\u001b[39;49;00m.dictionary,\r\n",
      "            passes=passes,\r\n",
      "            random_state=random_state,\r\n",
      "        )\r\n",
      "        \u001b[37m# calculate perplexity score (the lower the better)\u001b[39;49;00m\r\n",
      "        \u001b[36mself\u001b[39;49;00m.perplexity_score_ = \u001b[36mself\u001b[39;49;00m.model.log_perplexity(\u001b[36mself\u001b[39;49;00m.bow_corpus)\r\n",
      "        \u001b[37m#         # calculate coherence score (the higher the better)\u001b[39;49;00m\r\n",
      "        \u001b[36mself\u001b[39;49;00m.coherence_score_, \u001b[36mself\u001b[39;49;00m.coherence_score_per_topic_ = \u001b[36mself\u001b[39;49;00m.score(\r\n",
      "            \u001b[36mself\u001b[39;49;00m.docs, return_per_topic=\u001b[34mTrue\u001b[39;49;00m\r\n",
      "        )\r\n",
      "        \u001b[34mif\u001b[39;49;00m \u001b[35mnot\u001b[39;49;00m tuning:\r\n",
      "            pyLDAvis.enable_notebook()\r\n",
      "            vis = pyLDAvis.gensim.prepare(\u001b[36mself\u001b[39;49;00m.model, \u001b[36mself\u001b[39;49;00m.bow_corpus, \u001b[36mself\u001b[39;49;00m.dictionary)\r\n",
      "            \u001b[36mself\u001b[39;49;00m.visualize_topics_ = pyLDAvis.display(vis)\r\n",
      "        \u001b[34melse\u001b[39;49;00m:\r\n",
      "            \u001b[36mself\u001b[39;49;00m.visualize_topics_ = \u001b[33m'\u001b[39;49;00m\u001b[33mSet tuning parameter in fit function to \u001b[39;49;00m\u001b[33m\"\u001b[39;49;00m\u001b[33mFalse\u001b[39;49;00m\u001b[33m\"\u001b[39;49;00m\u001b[33m to visualize LDA result!\u001b[39;49;00m\u001b[33m'\u001b[39;49;00m\r\n",
      "            \u001b[34mreturn\u001b[39;49;00m \u001b[36mself\u001b[39;49;00m.coherence_score_\r\n",
      "        \u001b[34mif\u001b[39;49;00m predict_training_samples:\r\n",
      "            (\r\n",
      "                \u001b[36mself\u001b[39;49;00m.training_samples_predict_proba_,\r\n",
      "                \u001b[36mself\u001b[39;49;00m.training_samples_prediction_,\r\n",
      "            ) = \u001b[36mself\u001b[39;49;00m.predict(\u001b[36mself\u001b[39;49;00m.texts, \u001b[34mTrue\u001b[39;49;00m)\r\n",
      "\r\n",
      "    \u001b[34mdef\u001b[39;49;00m \u001b[32mscore\u001b[39;49;00m(\u001b[36mself\u001b[39;49;00m, docs, model=\u001b[34mNone\u001b[39;49;00m, coherence=\u001b[33m\"\u001b[39;49;00m\u001b[33mc_v\u001b[39;49;00m\u001b[33m\"\u001b[39;49;00m, return_per_topic=\u001b[34mFalse\u001b[39;49;00m):\r\n",
      "        \u001b[34mif\u001b[39;49;00m model == \u001b[34mNone\u001b[39;49;00m:\r\n",
      "            model = \u001b[36mself\u001b[39;49;00m.model\r\n",
      "        \u001b[37m# calculate coherence score (the higher the better)\u001b[39;49;00m\r\n",
      "        cm = models.CoherenceModel(\r\n",
      "            model=model,\r\n",
      "            texts=docs,\r\n",
      "            dictionary=\u001b[36mself\u001b[39;49;00m.dictionary,\r\n",
      "            coherence=coherence,\r\n",
      "        )\r\n",
      "        \u001b[34mif\u001b[39;49;00m return_per_topic:\r\n",
      "            \u001b[34mreturn\u001b[39;49;00m cm.get_coherence(), cm.get_coherence_per_topic()\r\n",
      "        \u001b[34melse\u001b[39;49;00m:\r\n",
      "            \u001b[34mreturn\u001b[39;49;00m cm.get_coherence()\r\n",
      "\r\n",
      "    \u001b[34mdef\u001b[39;49;00m \u001b[32mprint_output\u001b[39;49;00m(\u001b[36mself\u001b[39;49;00m):\r\n",
      "        \u001b[34mfor\u001b[39;49;00m idx, topic \u001b[35min\u001b[39;49;00m \u001b[36mself\u001b[39;49;00m.model.print_topics(-\u001b[34m1\u001b[39;49;00m):\r\n",
      "            \u001b[36mprint\u001b[39;49;00m(\r\n",
      "                \u001b[33m\"\u001b[39;49;00m\u001b[33mTopic: \u001b[39;49;00m\u001b[33m{}\u001b[39;49;00m\u001b[33m\\t\u001b[39;49;00m\u001b[33mCoherence Score: \u001b[39;49;00m\u001b[33m{:.4f}\u001b[39;49;00m\u001b[33m\\n\u001b[39;49;00m\u001b[33mWords: \u001b[39;49;00m\u001b[33m{}\u001b[39;49;00m\u001b[33m\"\u001b[39;49;00m.format(\r\n",
      "                    idx, \u001b[36mself\u001b[39;49;00m.coherence_score_per_topic_[idx], topic\r\n",
      "                ),\r\n",
      "                end=\u001b[33m\"\u001b[39;49;00m\u001b[33m\\n\u001b[39;49;00m\u001b[33m\\n\u001b[39;49;00m\u001b[33m########\u001b[39;49;00m\u001b[33m\\n\u001b[39;49;00m\u001b[33m\\n\u001b[39;49;00m\u001b[33m\"\u001b[39;49;00m,\r\n",
      "            )\r\n",
      "        \u001b[34melse\u001b[39;49;00m:\r\n",
      "            \u001b[36mprint\u001b[39;49;00m(\r\n",
      "                \u001b[33m\"\u001b[39;49;00m\u001b[33mPerplexity Score: \u001b[39;49;00m\u001b[33m{:.4f}\u001b[39;49;00m\u001b[33m \u001b[39;49;00m\u001b[33m\\n\u001b[39;49;00m\u001b[33mOverall Coherence Score: \u001b[39;49;00m\u001b[33m{:.4f}\u001b[39;49;00m\u001b[33m\"\u001b[39;49;00m.format(\r\n",
      "                    \u001b[36mself\u001b[39;49;00m.perplexity_score_, \u001b[36mself\u001b[39;49;00m.coherence_score_\r\n",
      "                )\r\n",
      "            )\r\n",
      "\r\n",
      "    \u001b[34mdef\u001b[39;49;00m \u001b[32mfind_best_num_topics\u001b[39;49;00m(\r\n",
      "        \u001b[36mself\u001b[39;49;00m,\r\n",
      "        num_topic_range=np.arange(\u001b[34m2\u001b[39;49;00m, \u001b[34m41\u001b[39;49;00m, \u001b[34m1\u001b[39;49;00m),\r\n",
      "        alpha=\u001b[33m\"\u001b[39;49;00m\u001b[33msymmetric\u001b[39;49;00m\u001b[33m\"\u001b[39;49;00m,\r\n",
      "        beta=\u001b[33m\"\u001b[39;49;00m\u001b[33msymmetric\u001b[39;49;00m\u001b[33m\"\u001b[39;49;00m,\r\n",
      "        random_state=\u001b[34m9\u001b[39;49;00m,\r\n",
      "    ):\r\n",
      "        \u001b[36mself\u001b[39;49;00m.tune(\r\n",
      "            num_topic_range=num_topic_range,\r\n",
      "            alpha_range=[alpha],\r\n",
      "            beta_range=[beta],\r\n",
      "            random_state=random_state,\r\n",
      "        )\r\n",
      "        data = [(i[\u001b[33m\"\u001b[39;49;00m\u001b[33mnum_topics\u001b[39;49;00m\u001b[33m\"\u001b[39;49;00m], i[\u001b[33m\"\u001b[39;49;00m\u001b[33mcoherence_score\u001b[39;49;00m\u001b[33m\"\u001b[39;49;00m]) \u001b[34mfor\u001b[39;49;00m i \u001b[35min\u001b[39;49;00m \u001b[36mself\u001b[39;49;00m.tuning_results_]\r\n",
      "        x, y = \u001b[36mlist\u001b[39;49;00m(), \u001b[36mlist\u001b[39;49;00m()\r\n",
      "        \u001b[34mfor\u001b[39;49;00m k, cs \u001b[35min\u001b[39;49;00m data:\r\n",
      "            x.append(k)\r\n",
      "            y.append(cs)\r\n",
      "        fig, ax = plt.subplots(figsize=(\u001b[34m18\u001b[39;49;00m, \u001b[34m6\u001b[39;49;00m))\r\n",
      "        _ = ax.plot(x, y)\r\n",
      "        _ = ax.set_title(\u001b[33m\"\u001b[39;49;00m\u001b[33mOptimal Number of Topics Grid Search\u001b[39;49;00m\u001b[33m\"\u001b[39;49;00m)\r\n",
      "        _ = ax.set_ylabel(\u001b[33m\"\u001b[39;49;00m\u001b[33mCoherence Score\u001b[39;49;00m\u001b[33m\"\u001b[39;49;00m)\r\n",
      "        _ = ax.set_xlabel(\u001b[33m\"\u001b[39;49;00m\u001b[33mNumber of Topics\u001b[39;49;00m\u001b[33m\"\u001b[39;49;00m)\r\n",
      "        fig.show()\r\n",
      "\r\n",
      "    \u001b[37m# Default set of hyperparameter values for hyperparameter tuning\u001b[39;49;00m\r\n",
      "    num_topic_range = np.arange(\u001b[34m2\u001b[39;49;00m, \u001b[34m101\u001b[39;49;00m, \u001b[34m10\u001b[39;49;00m)\r\n",
      "    alpha_range = \u001b[36mlist\u001b[39;49;00m(np.arange(\u001b[34m0.0\u001b[39;49;00m, \u001b[34m1.1\u001b[39;49;00m, \u001b[34m0.25\u001b[39;49;00m))\r\n",
      "    alpha_range.append(\u001b[33m\"\u001b[39;49;00m\u001b[33msymmetric\u001b[39;49;00m\u001b[33m\"\u001b[39;49;00m)\r\n",
      "    alpha_range.append(\u001b[33m\"\u001b[39;49;00m\u001b[33masymmetric\u001b[39;49;00m\u001b[33m\"\u001b[39;49;00m)\r\n",
      "    beta_range = \u001b[36mlist\u001b[39;49;00m(np.arange(\u001b[34m0.0\u001b[39;49;00m, \u001b[34m1.1\u001b[39;49;00m, \u001b[34m0.25\u001b[39;49;00m))\r\n",
      "    beta_range.append(\u001b[33m\"\u001b[39;49;00m\u001b[33msymmetric\u001b[39;49;00m\u001b[33m\"\u001b[39;49;00m)\r\n",
      "\r\n",
      "    \u001b[34mdef\u001b[39;49;00m \u001b[32mtune\u001b[39;49;00m(\r\n",
      "        \u001b[36mself\u001b[39;49;00m,\r\n",
      "        random_grid_search=\u001b[34mFalse\u001b[39;49;00m,\r\n",
      "        n=\u001b[34m10\u001b[39;49;00m,\r\n",
      "        num_topic_range=num_topic_range,\r\n",
      "        alpha_range=alpha_range,\r\n",
      "        beta_range=beta_range,\r\n",
      "        random_state=\u001b[34m9\u001b[39;49;00m,\r\n",
      "    ):\r\n",
      "        \u001b[36mself\u001b[39;49;00m.tuning_results_ = \u001b[36mlist\u001b[39;49;00m()\r\n",
      "        \u001b[34mfor\u001b[39;49;00m n_topic \u001b[35min\u001b[39;49;00m num_topic_range:\r\n",
      "            \u001b[34mfor\u001b[39;49;00m alpha \u001b[35min\u001b[39;49;00m alpha_range:\r\n",
      "                \u001b[34mfor\u001b[39;49;00m beta \u001b[35min\u001b[39;49;00m beta_range:\r\n",
      "                    \u001b[36mself\u001b[39;49;00m.tuning_results_.append(\r\n",
      "                        {\u001b[33m\"\u001b[39;49;00m\u001b[33mnum_topics\u001b[39;49;00m\u001b[33m\"\u001b[39;49;00m: n_topic, \u001b[33m\"\u001b[39;49;00m\u001b[33malpha\u001b[39;49;00m\u001b[33m\"\u001b[39;49;00m: alpha, \u001b[33m\"\u001b[39;49;00m\u001b[33mbeta\u001b[39;49;00m\u001b[33m\"\u001b[39;49;00m: beta}\r\n",
      "                    )\r\n",
      "        \u001b[34mif\u001b[39;49;00m random_grid_search:\r\n",
      "            \u001b[36mself\u001b[39;49;00m.tuning_results_ = np.random.choice(\u001b[36mself\u001b[39;49;00m.tuning_results_, n, \u001b[34mFalse\u001b[39;49;00m)\r\n",
      "\r\n",
      "        \u001b[36mself\u001b[39;49;00m.best_coherence_score_ = -np.inf\r\n",
      "        idx_best_coherence_score = \u001b[34m0\u001b[39;49;00m\r\n",
      "        progress_bar = tqdm(\u001b[36mrange\u001b[39;49;00m(\u001b[36mlen\u001b[39;49;00m(\u001b[36mself\u001b[39;49;00m.tuning_results_)), desc=\u001b[33m\"\u001b[39;49;00m\u001b[33mtuning\u001b[39;49;00m\u001b[33m\"\u001b[39;49;00m)\r\n",
      "        \u001b[34mfor\u001b[39;49;00m i \u001b[35min\u001b[39;49;00m progress_bar:\r\n",
      "            coherence_score = \u001b[36mself\u001b[39;49;00m.fit(\r\n",
      "                **\u001b[36mself\u001b[39;49;00m.tuning_results_[i], tuning=\u001b[34mTrue\u001b[39;49;00m, random_state=random_state\r\n",
      "            )\r\n",
      "            \u001b[34mif\u001b[39;49;00m coherence_score > \u001b[36mself\u001b[39;49;00m.best_coherence_score_:\r\n",
      "                \u001b[36mself\u001b[39;49;00m.best_coherence_score_ = coherence_score\r\n",
      "                \u001b[36mself\u001b[39;49;00m.best_params_ = \u001b[36mself\u001b[39;49;00m.tuning_results_[i].copy()\r\n",
      "                idx_best_coherence_score = i\r\n",
      "            \u001b[36mself\u001b[39;49;00m.tuning_results_[i][\u001b[33m\"\u001b[39;49;00m\u001b[33mcoherence_score\u001b[39;49;00m\u001b[33m\"\u001b[39;49;00m] = coherence_score\r\n",
      "            progress_bar.set_postfix(\r\n",
      "                {\r\n",
      "                    \u001b[33m\"\u001b[39;49;00m\u001b[33mmax_coherence_score\u001b[39;49;00m\u001b[33m\"\u001b[39;49;00m: \u001b[36mself\u001b[39;49;00m.best_coherence_score_,\r\n",
      "                    \u001b[33m\"\u001b[39;49;00m\u001b[33mbest_params\u001b[39;49;00m\u001b[33m\"\u001b[39;49;00m: \u001b[36mstr\u001b[39;49;00m(\u001b[36mself\u001b[39;49;00m.best_params_),\r\n",
      "                }\r\n",
      "            )\r\n",
      "        \u001b[34melse\u001b[39;49;00m:\r\n",
      "            \u001b[36mself\u001b[39;49;00m.fit(**\u001b[36mself\u001b[39;49;00m.best_params_, random_state=random_state)\r\n",
      "            \u001b[36mprint\u001b[39;49;00m(\u001b[33m\"\u001b[39;49;00m\u001b[33mFinished hyperparameter tuning, model updated!\u001b[39;49;00m\u001b[33m\"\u001b[39;49;00m)\r\n",
      "\r\n",
      "    \u001b[34mdef\u001b[39;49;00m \u001b[32mpredict\u001b[39;49;00m(\u001b[36mself\u001b[39;49;00m, test_sample, return_predict_proba=\u001b[34mFalse\u001b[39;49;00m):\r\n",
      "        sample_data_type = \u001b[36mtype\u001b[39;49;00m(test_sample)\r\n",
      "        \u001b[34mif\u001b[39;49;00m sample_data_type == \u001b[36mstr\u001b[39;49;00m:\r\n",
      "            test_sample = [test_sample]\r\n",
      "        predict_proba, predictions = \u001b[36mlist\u001b[39;49;00m(), \u001b[36mlist\u001b[39;49;00m()\r\n",
      "        \u001b[34mfor\u001b[39;49;00m doc \u001b[35min\u001b[39;49;00m test_sample:\r\n",
      "            test_vector = \u001b[36mself\u001b[39;49;00m.model.id2word.doc2bow(doc.split())\r\n",
      "            test_topics = \u001b[36mself\u001b[39;49;00m.model[test_vector]\r\n",
      "            pred_proba = np.zeros(\u001b[36mself\u001b[39;49;00m.best_params_[\u001b[33m\"\u001b[39;49;00m\u001b[33mnum_topics\u001b[39;49;00m\u001b[33m\"\u001b[39;49;00m])\r\n",
      "            \u001b[34mfor\u001b[39;49;00m i, proba \u001b[35min\u001b[39;49;00m test_topics:\r\n",
      "                pred_proba[i] = proba\r\n",
      "            predict_proba.append(pred_proba)\r\n",
      "            predictions.append(np.argmax(pred_proba))\r\n",
      "        \u001b[34melse\u001b[39;49;00m:\r\n",
      "            predict_proba = np.array(predict_proba)\r\n",
      "            predictions = np.array(predictions)\r\n",
      "        \u001b[34mif\u001b[39;49;00m sample_data_type == \u001b[36mstr\u001b[39;49;00m:\r\n",
      "            predict_proba = predict_proba[\u001b[34m0\u001b[39;49;00m]\r\n",
      "            predictions = predictions[\u001b[34m0\u001b[39;49;00m]\r\n",
      "        \u001b[34mif\u001b[39;49;00m return_predict_proba:\r\n",
      "            \u001b[34mreturn\u001b[39;49;00m predict_proba, predictions\r\n",
      "        \u001b[34melse\u001b[39;49;00m:\r\n",
      "            \u001b[34mreturn\u001b[39;49;00m predictions\r\n",
      "\r\n",
      "    \u001b[34mdef\u001b[39;49;00m \u001b[32mgenerate_topic_word_cloud\u001b[39;49;00m(\u001b[36mself\u001b[39;49;00m, topics=\u001b[33m\"\u001b[39;49;00m\u001b[33mall\u001b[39;49;00m\u001b[33m\"\u001b[39;49;00m, topic_names=\u001b[34mNone\u001b[39;49;00m):\r\n",
      "        \u001b[34massert\u001b[39;49;00m (\r\n",
      "            \u001b[36mhasattr\u001b[39;49;00m(topics, \u001b[33m\"\u001b[39;49;00m\u001b[33m__iter__\u001b[39;49;00m\u001b[33m\"\u001b[39;49;00m)\r\n",
      "            \u001b[35mor\u001b[39;49;00m topics.lower().strip() == \u001b[33m\"\u001b[39;49;00m\u001b[33mall\u001b[39;49;00m\u001b[33m\"\u001b[39;49;00m\r\n"
     ]
    },
    {
     "name": "stdout",
     "output_type": "stream",
     "text": [
      "            \u001b[35mor\u001b[39;49;00m \u001b[36mtype\u001b[39;49;00m(topics) == \u001b[36mint\u001b[39;49;00m\r\n",
      "        ), \u001b[33m'\u001b[39;49;00m\u001b[33mtopics only accepts \u001b[39;49;00m\u001b[33m\"\u001b[39;49;00m\u001b[33mall\u001b[39;49;00m\u001b[33m\"\u001b[39;49;00m\u001b[33m, an integer, or an iterable\u001b[39;49;00m\u001b[33m'\u001b[39;49;00m\r\n",
      "        \u001b[34mif\u001b[39;49;00m \u001b[36mtype\u001b[39;49;00m(topics) == \u001b[36mint\u001b[39;49;00m:\r\n",
      "            topics = [topics]\r\n",
      "        \u001b[34melif\u001b[39;49;00m topics.lower().strip() == \u001b[33m\"\u001b[39;49;00m\u001b[33mall\u001b[39;49;00m\u001b[33m\"\u001b[39;49;00m:\r\n",
      "            topics = np.unique(\u001b[36mself\u001b[39;49;00m.training_samples_prediction_)\r\n",
      "        z = [[i] \u001b[34mfor\u001b[39;49;00m i \u001b[35min\u001b[39;49;00m topics]\r\n",
      "\r\n",
      "        \u001b[34mif\u001b[39;49;00m topic_names != \u001b[34mNone\u001b[39;49;00m:\r\n",
      "            \u001b[34massert\u001b[39;49;00m (\r\n",
      "                \u001b[36mhasattr\u001b[39;49;00m(topic_names, \u001b[33m\"\u001b[39;49;00m\u001b[33m__iter__\u001b[39;49;00m\u001b[33m\"\u001b[39;49;00m) \u001b[35mor\u001b[39;49;00m \u001b[36mtype\u001b[39;49;00m(topic_names) == \u001b[36mstr\u001b[39;49;00m\r\n",
      "            ), \u001b[33m\"\u001b[39;49;00m\u001b[33mtopic_names must be an a string, an iterable or None\u001b[39;49;00m\u001b[33m\"\u001b[39;49;00m\r\n",
      "            \u001b[34mif\u001b[39;49;00m \u001b[36mtype\u001b[39;49;00m(topic_names) == \u001b[36mstr\u001b[39;49;00m:\r\n",
      "                \u001b[34massert\u001b[39;49;00m (\r\n",
      "                    \u001b[36mlen\u001b[39;49;00m(topics) == \u001b[34m1\u001b[39;49;00m\r\n",
      "                ), \u001b[33m\"\u001b[39;49;00m\u001b[33mOnly accept integers for topics when topic_names data type is a string\u001b[39;49;00m\u001b[33m\"\u001b[39;49;00m\r\n",
      "                topic_names = [topic_names]\r\n",
      "            \u001b[34melse\u001b[39;49;00m:\r\n",
      "                \u001b[34massert\u001b[39;49;00m \u001b[36mlen\u001b[39;49;00m(topics) == \u001b[36mlen\u001b[39;49;00m(\r\n",
      "                    topic_names\r\n",
      "                ), \u001b[33m\"\u001b[39;49;00m\u001b[33mtopics and topic_names length must be the same.\u001b[39;49;00m\u001b[33m\"\u001b[39;49;00m\r\n",
      "            z = \u001b[36mzip\u001b[39;49;00m(topics, topic_names)\r\n",
      "\r\n",
      "        \u001b[34mfor\u001b[39;49;00m i \u001b[35min\u001b[39;49;00m z:\r\n",
      "            samples = \u001b[36mself\u001b[39;49;00m.texts[\u001b[36mself\u001b[39;49;00m.training_samples_prediction_ == i[\u001b[34m0\u001b[39;49;00m]]\r\n",
      "            s = \u001b[36mstr\u001b[39;49;00m(i[\u001b[34m0\u001b[39;49;00m]) \u001b[34mif\u001b[39;49;00m topic_names == \u001b[34mNone\u001b[39;49;00m \u001b[34melse\u001b[39;49;00m i[\u001b[34m1\u001b[39;49;00m]\r\n",
      "            s = \u001b[33m\"\u001b[39;49;00m\u001b[33mTopic: \u001b[39;49;00m\u001b[33m\"\u001b[39;49;00m + s\r\n",
      "            wordcloud = WordCloud(\r\n",
      "                background_color=\u001b[33m\"\u001b[39;49;00m\u001b[33mwhite\u001b[39;49;00m\u001b[33m\"\u001b[39;49;00m,\r\n",
      "                max_words=\u001b[34m100\u001b[39;49;00m,\r\n",
      "            ).generate(\u001b[33m\"\u001b[39;49;00m\u001b[33m\\n\u001b[39;49;00m\u001b[33m\"\u001b[39;49;00m.join(\u001b[36mlist\u001b[39;49;00m(samples)))\r\n",
      "            _ = plt.imshow(wordcloud, interpolation=\u001b[33m\"\u001b[39;49;00m\u001b[33mbilinear\u001b[39;49;00m\u001b[33m\"\u001b[39;49;00m)\r\n",
      "            _ = plt.title(\u001b[33mf\u001b[39;49;00m\u001b[33m\"\u001b[39;49;00m\u001b[33mWord Cloud (\u001b[39;49;00m\u001b[33m{\u001b[39;49;00ms\u001b[33m}\u001b[39;49;00m\u001b[33m)\u001b[39;49;00m\u001b[33m\"\u001b[39;49;00m, fontweight=\u001b[33m\"\u001b[39;49;00m\u001b[33mbold\u001b[39;49;00m\u001b[33m\"\u001b[39;49;00m, fontsize=\u001b[34m30\u001b[39;49;00m)\r\n",
      "            _ = plt.axis(\u001b[33m\"\u001b[39;49;00m\u001b[33moff\u001b[39;49;00m\u001b[33m\"\u001b[39;49;00m)\r\n",
      "            plt.show()\r\n"
     ]
    }
   ],
   "source": [
    "!pygmentize helper_scripts/lda.py"
   ]
  },
  {
   "cell_type": "markdown",
   "metadata": {},
   "source": [
    "## Jupyter Notebook Setup"
   ]
  },
  {
   "cell_type": "code",
   "execution_count": null,
   "metadata": {},
   "outputs": [],
   "source": [
    "## Enable developer mode in current notebook\n",
    "%load_ext autoreload\n",
    "%autoreload 2"
   ]
  },
  {
   "cell_type": "code",
   "execution_count": 2,
   "metadata": {
    "ExecuteTime": {
     "end_time": "2020-09-30T15:08:29.986002Z",
     "start_time": "2020-09-30T15:08:20.646505Z"
    }
   },
   "outputs": [],
   "source": [
    "## Import Libraries\n",
    "from helper_scripts import lda\n",
    "import os\n",
    "import pickle\n",
    "import re\n",
    "import pandas as pd\n",
    "import numpy as np\n",
    "import plotly.express as px\n",
    "import warnings\n",
    "warnings.filterwarnings(\"ignore\")"
   ]
  },
  {
   "cell_type": "code",
   "execution_count": 3,
   "metadata": {
    "ExecuteTime": {
     "end_time": "2020-09-30T15:08:30.649101Z",
     "start_time": "2020-09-30T15:08:29.989653Z"
    }
   },
   "outputs": [],
   "source": [
    "## Plotly renderer setup.\n",
    "import plotly.io as pio\n",
    "pio.renderers.default = 'iframe+colab+notebook'"
   ]
  },
  {
   "cell_type": "markdown",
   "metadata": {},
   "source": [
    "## Reading The Data"
   ]
  },
  {
   "cell_type": "code",
   "execution_count": 4,
   "metadata": {
    "ExecuteTime": {
     "end_time": "2020-09-30T15:08:31.039595Z",
     "start_time": "2020-09-30T15:08:30.651920Z"
    }
   },
   "outputs": [
    {
     "data": {
      "text/html": [
       "<div>\n",
       "<style scoped>\n",
       "    .dataframe tbody tr th:only-of-type {\n",
       "        vertical-align: middle;\n",
       "    }\n",
       "\n",
       "    .dataframe tbody tr th {\n",
       "        vertical-align: top;\n",
       "    }\n",
       "\n",
       "    .dataframe thead th {\n",
       "        text-align: right;\n",
       "    }\n",
       "</style>\n",
       "<table border=\"1\" class=\"dataframe\">\n",
       "  <thead>\n",
       "    <tr style=\"text-align: right;\">\n",
       "      <th></th>\n",
       "      <th>title</th>\n",
       "      <th>date</th>\n",
       "      <th>location</th>\n",
       "      <th>rating</th>\n",
       "      <th>text</th>\n",
       "      <th>title_clean</th>\n",
       "      <th>text_clean</th>\n",
       "    </tr>\n",
       "  </thead>\n",
       "  <tbody>\n",
       "    <tr>\n",
       "      <th>0</th>\n",
       "      <td>Which iPhone you should Purchase ? iPhone 8, X...</td>\n",
       "      <td>2018-12-12</td>\n",
       "      <td>India</td>\n",
       "      <td>3.0</td>\n",
       "      <td>NOTE:@ This is detailed comparison between iPh...</td>\n",
       "      <td>iphon purchas iphon 8 x xs xr</td>\n",
       "      <td>note comparison iphon 8 x xs xr month state ba...</td>\n",
       "    </tr>\n",
       "    <tr>\n",
       "      <th>1</th>\n",
       "      <td>Don't buy iPhone xr from Amazon.</td>\n",
       "      <td>2018-11-17</td>\n",
       "      <td>India</td>\n",
       "      <td>1.0</td>\n",
       "      <td>Very bad experience with this iPhone xr phone....</td>\n",
       "      <td>don t buy iphon xr amazon</td>\n",
       "      <td>experi iphon xr camera find amazon haven t get...</td>\n",
       "    </tr>\n",
       "    <tr>\n",
       "      <th>2</th>\n",
       "      <td>Happy with the purchase</td>\n",
       "      <td>2019-01-27</td>\n",
       "      <td>India</td>\n",
       "      <td>5.0</td>\n",
       "      <td>Amazing phone with amazing camera coming from ...</td>\n",
       "      <td>purchas</td>\n",
       "      <td>camera come iphon 7 plus servic amazon</td>\n",
       "    </tr>\n",
       "    <tr>\n",
       "      <th>3</th>\n",
       "      <td>Amazon is not an apple authorised reseller. Pl...</td>\n",
       "      <td>2019-05-02</td>\n",
       "      <td>India</td>\n",
       "      <td>1.0</td>\n",
       "      <td>So I got the iPhone XR just today. The product...</td>\n",
       "      <td>amazon appl resel note</td>\n",
       "      <td>get iphon xr today product look face d work gl...</td>\n",
       "    </tr>\n",
       "    <tr>\n",
       "      <th>4</th>\n",
       "      <td>Excellent Battery life and buttery smooth UI</td>\n",
       "      <td>2019-05-24</td>\n",
       "      <td>India</td>\n",
       "      <td>5.0</td>\n",
       "      <td>I've been an android user all my life until I ...</td>\n",
       "      <td>excel batteri life butteri ui</td>\n",
       "      <td>ve android user life decid tri iphon xr io lov...</td>\n",
       "    </tr>\n",
       "  </tbody>\n",
       "</table>\n",
       "</div>"
      ],
      "text/plain": [
       "                                               title       date location  \\\n",
       "0  Which iPhone you should Purchase ? iPhone 8, X... 2018-12-12    India   \n",
       "1                   Don't buy iPhone xr from Amazon. 2018-11-17    India   \n",
       "2                            Happy with the purchase 2019-01-27    India   \n",
       "3  Amazon is not an apple authorised reseller. Pl... 2019-05-02    India   \n",
       "4       Excellent Battery life and buttery smooth UI 2019-05-24    India   \n",
       "\n",
       "   rating                                               text  \\\n",
       "0     3.0  NOTE:@ This is detailed comparison between iPh...   \n",
       "1     1.0  Very bad experience with this iPhone xr phone....   \n",
       "2     5.0  Amazing phone with amazing camera coming from ...   \n",
       "3     1.0  So I got the iPhone XR just today. The product...   \n",
       "4     5.0  I've been an android user all my life until I ...   \n",
       "\n",
       "                     title_clean  \\\n",
       "0  iphon purchas iphon 8 x xs xr   \n",
       "1      don t buy iphon xr amazon   \n",
       "2                        purchas   \n",
       "3         amazon appl resel note   \n",
       "4  excel batteri life butteri ui   \n",
       "\n",
       "                                          text_clean  \n",
       "0  note comparison iphon 8 x xs xr month state ba...  \n",
       "1  experi iphon xr camera find amazon haven t get...  \n",
       "2             camera come iphon 7 plus servic amazon  \n",
       "3  get iphon xr today product look face d work gl...  \n",
       "4  ve android user life decid tri iphon xr io lov...  "
      ]
     },
     "execution_count": 4,
     "metadata": {},
     "output_type": "execute_result"
    }
   ],
   "source": [
    "df = pd.read_parquet('../cleaned_data/cleaned_reviews.parquet.gzip')\n",
    "df.head()"
   ]
  },
  {
   "cell_type": "code",
   "execution_count": 5,
   "metadata": {
    "ExecuteTime": {
     "end_time": "2020-09-30T15:08:31.092611Z",
     "start_time": "2020-09-30T15:08:31.042269Z"
    }
   },
   "outputs": [
    {
     "name": "stdout",
     "output_type": "stream",
     "text": [
      "<class 'pandas.core.frame.DataFrame'>\n",
      "RangeIndex: 3277 entries, 0 to 3276\n",
      "Data columns (total 7 columns):\n",
      " #   Column       Non-Null Count  Dtype         \n",
      "---  ------       --------------  -----         \n",
      " 0   title        3277 non-null   object        \n",
      " 1   date         3277 non-null   datetime64[ns]\n",
      " 2   location     3277 non-null   object        \n",
      " 3   rating       3277 non-null   float32       \n",
      " 4   text         3277 non-null   object        \n",
      " 5   title_clean  3277 non-null   object        \n",
      " 6   text_clean   3277 non-null   object        \n",
      "dtypes: datetime64[ns](1), float32(1), object(5)\n",
      "memory usage: 166.5+ KB\n"
     ]
    }
   ],
   "source": [
    "df.info()"
   ]
  },
  {
   "cell_type": "markdown",
   "metadata": {},
   "source": [
    "## LDA"
   ]
  },
  {
   "cell_type": "markdown",
   "metadata": {},
   "source": [
    "### Initializing the model"
   ]
  },
  {
   "cell_type": "code",
   "execution_count": 6,
   "metadata": {
    "ExecuteTime": {
     "end_time": "2020-09-30T15:08:31.415088Z",
     "start_time": "2020-09-30T15:08:31.103489Z"
    }
   },
   "outputs": [],
   "source": [
    "lda_model = lda.LDA(df['text_clean'])"
   ]
  },
  {
   "cell_type": "code",
   "execution_count": 7,
   "metadata": {
    "ExecuteTime": {
     "end_time": "2020-09-30T15:08:31.475100Z",
     "start_time": "2020-09-30T15:08:31.423806Z"
    }
   },
   "outputs": [
    {
     "data": {
      "text/plain": [
       "[('word', 'frequency'),\n",
       " ('1', 1),\n",
       " ('11', 1),\n",
       " ('12', 1),\n",
       " ('14', 1),\n",
       " ('15', 1),\n",
       " ('16', 1),\n",
       " ('18', 1),\n",
       " ('20', 1),\n",
       " ('4', 3),\n",
       " ('4k', 1),\n",
       " ('5', 1),\n",
       " ('6', 3),\n",
       " ('64', 1),\n",
       " ('7', 2),\n",
       " ('75kxr', 1),\n",
       " ('77kxs', 1),\n",
       " ('8', 19),\n",
       " ('80k', 1),\n",
       " ('9', 1),\n",
       " ('99k', 1),\n",
       " ('accord', 1),\n",
       " ('aluminum', 1),\n",
       " ('appear', 1),\n",
       " ('batteri', 4),\n",
       " ('bodi', 1),\n",
       " ('budget', 2),\n",
       " ('build', 1),\n",
       " ('button', 1),\n",
       " ('camera', 3)]"
      ]
     },
     "execution_count": 7,
     "metadata": {},
     "output_type": "execute_result"
    }
   ],
   "source": [
    "# sanity check on data\n",
    "it = iter(lda_model)\n",
    "it = next(it)\n",
    "it.insert(0, ('word', 'frequency'))\n",
    "it[:30]"
   ]
  },
  {
   "cell_type": "code",
   "execution_count": 8,
   "metadata": {
    "ExecuteTime": {
     "end_time": "2020-09-30T15:08:31.850127Z",
     "start_time": "2020-09-30T15:08:31.486349Z"
    }
   },
   "outputs": [
    {
     "data": {
      "text/plain": [
       "417"
      ]
     },
     "execution_count": 8,
     "metadata": {},
     "output_type": "execute_result"
    }
   ],
   "source": [
    "lda_model = lda.LDA(df['text_clean'])\n",
    "lda_model.filter_extremes(keep_n=10000, no_below=10,  no_above = 0.3)\n",
    "# sanity check on dictionary size\n",
    "len(lda_model.dictionary)"
   ]
  },
  {
   "cell_type": "markdown",
   "metadata": {},
   "source": [
    "### Training & evaluating the model"
   ]
  },
  {
   "cell_type": "code",
   "execution_count": 9,
   "metadata": {
    "ExecuteTime": {
     "end_time": "2020-09-30T15:08:49.624102Z",
     "start_time": "2020-09-30T15:08:31.853202Z"
    },
    "scrolled": false
   },
   "outputs": [
    {
     "name": "stdout",
     "output_type": "stream",
     "text": [
      "Topic: 0\tCoherence Score: 0.6077\n",
      "Words: 0.060*\"iphon\" + 0.034*\"xr\" + 0.031*\"price\" + 0.027*\"qualiti\" + 0.027*\"camera\" + 0.020*\"appl\" + 0.019*\"product\" + 0.017*\"batteri\" + 0.015*\"use\" + 0.015*\"featur\"\n",
      "\n",
      "########\n",
      "\n",
      "Topic: 1\tCoherence Score: 0.3773\n",
      "Words: 0.098*\"product\" + 0.037*\"amazon\" + 0.034*\"buy\" + 0.030*\"love\" + 0.027*\"money\" + 0.024*\"iphon\" + 0.023*\"appl\" + 0.022*\"mobil\" + 0.021*\"like\" + 0.019*\"valu\"\n",
      "\n",
      "########\n",
      "\n",
      "Topic: 2\tCoherence Score: 0.4975\n",
      "Words: 0.076*\"batteri\" + 0.047*\"life\" + 0.046*\"camera\" + 0.039*\"iphon\" + 0.028*\"appl\" + 0.023*\"qualiti\" + 0.020*\"work\" + 0.018*\"product\" + 0.016*\"day\" + 0.015*\"perform\"\n",
      "\n",
      "########\n",
      "\n",
      "Perplexity Score: -5.5061 \n",
      "Overall Coherence Score: 0.4942\n"
     ]
    }
   ],
   "source": [
    "lda_model.fit(3)\n",
    "## Evaluate the model\n",
    "lda_model.print_output()"
   ]
  },
  {
   "cell_type": "code",
   "execution_count": 10,
   "metadata": {
    "ExecuteTime": {
     "end_time": "2020-09-30T15:08:50.367644Z",
     "start_time": "2020-09-30T15:08:49.627845Z"
    }
   },
   "outputs": [
    {
     "data": {
      "text/plain": [
       "(0.31983246180795094,\n",
       " [0.32688883492508597, 0.31610754355973636, 0.3165010069390305])"
      ]
     },
     "execution_count": 10,
     "metadata": {},
     "output_type": "execute_result"
    }
   ],
   "source": [
    "lda_model.score(df.sample(500)['text_clean'].apply(lambda x: x.split()), return_per_topic=True)"
   ]
  },
  {
   "cell_type": "markdown",
   "metadata": {
    "ExecuteTime": {
     "end_time": "2020-09-24T04:04:33.862160Z",
     "start_time": "2020-09-24T04:04:33.833643Z"
    }
   },
   "source": [
    "### Visualizing training results"
   ]
  },
  {
   "cell_type": "code",
   "execution_count": 11,
   "metadata": {
    "ExecuteTime": {
     "end_time": "2020-09-30T15:08:50.420358Z",
     "start_time": "2020-09-30T15:08:50.371245Z"
    }
   },
   "outputs": [
    {
     "data": {
      "text/html": [
       "\n",
       "<link rel=\"stylesheet\" type=\"text/css\" href=\"https://cdn.rawgit.com/bmabey/pyLDAvis/files/ldavis.v1.0.0.css\">\n",
       "\n",
       "\n",
       "<div id=\"ldavis_el1385711404025656585762408833094\"></div>\n",
       "<script type=\"text/javascript\">\n",
       "\n",
       "var ldavis_el1385711404025656585762408833094_data = {\"mdsDat\": {\"x\": [-0.06017886511768707, -0.05245932216869355, 0.11263818728638056], \"y\": [0.060453862181433844, -0.06328053223286248, 0.0028266700514286455], \"topics\": [1, 2, 3], \"cluster\": [1, 1, 1], \"Freq\": [38.92728639314201, 38.43105998890343, 22.641653617954557]}, \"tinfo\": {\"Term\": [\"product\", \"batteri\", \"life\", \"amazon\", \"money\", \"love\", \"buy\", \"mobil\", \"\\ud83d\\udc4d\", \"valu\", \"like\", \"\\ufe0f\", \"price\", \"charg\", \"thank\", \"fingerprint\", \"\\ud83d\\udc4c\", \"\\u2764\", \"problem\", \"xr\", \"featur\", \"superb\", \"\\ud83d\\ude0d\", \"s\", \"camera\", \"expect\", \"qualiti\", \"use\", \"work\", \"perform\", \"\\ud83d\\udc4c\", \"fingerprint\", \"super\", \"ok\", \"\\\"\", \"6s\", \"amaz\", \"star\", \"number\", \"e\", \"stick\", \"accessori\", \"\\ud83c\\udffb\", \"5s\", \"featur\", \"till\", \"comparison\", \"turn\", \"rate\", \"999\", \"rang\", \"improv\", \"5\", \"understand\", \"reduc\", \"job\", \"7\", \"set\", \"way\", \"ole\", \"6\", \"receiv\", \"year\", \"4\", \"price\", \"use\", \"xr\", \"reader\", \"compar\", \"iphon\", \"1\", \"month\", \"plus\", \"come\", \"qualiti\", \"feel\", \"deal\", \"android\", \"camera\", \"2\", \"appl\", \"screen\", \"get\", \"product\", \"batteri\", \"face\", \"t\", \"issu\", \"buy\", \"life\", \"print\", \"finger\", \"wow\", \"disappoint\", \"great\", \"clariti\", \"smooth\", \"awesom\", \"life\", \"class\", \"38k\", \"enjoy\", \"24\", \"superb\", \"backup\", \"butteri\", \"centr\", \"beast\", \"world\", \"choic\", \"guy\", \"10\", \"voic\", \"gud\", \"batteri\", \"capac\", \"13\", \"nd\", \"power\", \"butter\", \"model\", \"display\", \"perform\", \"day\", \"devic\", \"camera\", \"servic\", \"budget\", \"work\", \"io\", \"sale\", \"u\", \"go\", \"appl\", \"look\", \"qualiti\", \"need\", \"iphon\", \"face\", \"deliveri\", \"screen\", \"get\", \"product\", \"d\", \"amazon\", \"buy\", \"xr\", \"experi\", \"purchas\", \"time\", \"android\", \"love\", \"\\ufe0f\", \"\\ud83d\\udc4d\", \"\\u2764\", \"osm\", \"gift\", \"money\", \"worth\", \"valu\", \"mobil\", \"\\ud83d\\ude0d\", \"100\", \"love\", \"comment\", \"meet\", \"word\", \"defect\", \"problem\", \"charg\", \"thank\", \"doubt\", \"box\", \"product\", \"30\", \"penni\", \"discount\", \"cabl\", \"excel\", \"amazon\", \"handl\", \"manag\", \"recommend\", \"like\", \"buy\", \"expect\", \"charger\", \"s\", \"deliv\", \"time\", \"bit\", \"appl\", \"issu\", \"face\", \"iphon\", \"experi\", \"get\", \"price\", \"work\", \"camera\", \"xr\", \"perform\"], \"Freq\": [898.0, 924.0, 530.0, 353.0, 175.0, 254.0, 354.0, 156.0, 99.0, 128.0, 219.0, 76.0, 425.0, 130.0, 120.0, 119.0, 87.0, 49.0, 103.0, 478.0, 173.0, 139.0, 51.0, 166.0, 771.0, 95.0, 512.0, 207.0, 306.0, 209.0, 85.12476207786207, 111.24483617525377, 50.685596192838794, 33.837734652923906, 37.408643758849614, 34.82486882198748, 18.92202114968026, 31.057260904144908, 19.221604862875164, 21.601396263775925, 10.782658641315763, 15.166141096939041, 26.28226620317438, 17.985584965795997, 141.09497730894014, 47.74178379389286, 12.707556868358909, 10.986964290925366, 20.52877583552455, 9.818796620200832, 64.2522481813626, 31.99965506424987, 100.3945257839099, 9.972399779545137, 8.518439590110093, 15.684102095830774, 86.87706032421602, 9.09882418673949, 18.44361255323059, 8.239520706347585, 88.60020165404794, 83.46009676416979, 64.7396038785868, 60.36827839750534, 303.9577192021509, 148.01396045250843, 326.44552266990115, 74.98780952747592, 81.80313514751901, 584.5946265168069, 77.87634001624855, 100.37268512703432, 44.63358080720151, 65.0098189362182, 263.80610428283927, 89.64031788688733, 67.12892578889769, 97.8181932491019, 259.47397755494967, 67.85929483455057, 197.6982742537346, 96.70987902455819, 113.37669692636864, 179.7026542088977, 164.8747042858094, 91.84116952484061, 70.49057590316868, 71.27311834966233, 72.21156380189777, 69.83622117341133, 41.77110319222944, 44.273644292859345, 22.27799301329458, 24.59234261397264, 22.72041705277368, 19.292745440924094, 12.003457636408347, 44.4002424105463, 445.8932655532036, 21.435626733137912, 18.560264094195734, 23.891282854228855, 10.09541487401922, 113.70326502002567, 58.35566564911392, 9.394238363271029, 11.83547517936123, 32.76239332420687, 11.233501441095779, 18.262940426815394, 10.14660740966343, 45.118974936613476, 15.279036046952688, 26.726651046720413, 727.0309294959127, 8.47747278353813, 21.603774865419844, 16.663601774949925, 16.884485779962827, 10.51227266736306, 32.57880070191412, 120.05381692960883, 140.191448248556, 151.22609493129795, 71.19367725561298, 442.1454204345408, 50.14670460889851, 52.345101559662375, 188.8071624673943, 79.76841363304646, 55.150261263700806, 62.45009001604251, 41.78409924689081, 267.72109217794156, 78.36307845732337, 222.49594276601107, 65.07799723328435, 371.34650834649597, 135.55035342627542, 66.51796631648455, 102.4782141278199, 123.20639648914477, 169.13444476711692, 56.12965764176628, 95.61731133248257, 90.51100934614969, 98.91337231685623, 62.67018233805414, 62.38452265197066, 64.10577047880346, 61.18854315351158, 60.19163190095723, 73.1528038765476, 95.0577546855814, 47.2034315268238, 17.88732876176414, 12.010117969170658, 150.41290165214514, 18.64073189522249, 105.97303965156354, 125.68416597990519, 41.41622405860094, 23.485514312889613, 169.3033070874866, 9.754217712469986, 6.680288958710388, 23.51381918973401, 10.752357671737453, 66.10723212328621, 83.04799701270458, 76.18766734087609, 8.545963435979315, 23.608879763901864, 549.3618028626362, 6.981668947501008, 7.967438952374549, 30.74845085497469, 11.927517095928108, 28.525480369363034, 210.63832167162337, 11.980408591864435, 5.802999582324141, 23.172486272461096, 120.29147116192664, 192.27445717061084, 48.63182945918996, 41.67487749253083, 71.08448828227395, 33.41985003840985, 71.84137777368838, 33.38220104095564, 127.77031034496656, 49.42828603451017, 71.96730067330274, 133.1046764683926, 48.45917547517982, 66.87733859292717, 73.59318814075581, 58.77474922531081, 69.78490610121966, 52.76279023915628, 37.32533084684677], \"Total\": [898.0, 924.0, 530.0, 353.0, 175.0, 254.0, 354.0, 156.0, 99.0, 128.0, 219.0, 76.0, 425.0, 130.0, 120.0, 119.0, 87.0, 49.0, 103.0, 478.0, 173.0, 139.0, 51.0, 166.0, 771.0, 95.0, 512.0, 207.0, 306.0, 209.0, 87.14714605570111, 119.54003907295053, 54.72440235745951, 36.85422773710236, 41.10253457754341, 38.92318340078298, 21.714562026728544, 36.02374659059049, 22.366278796839143, 25.183884070396413, 12.577543923971369, 17.91766600941859, 31.920814975172867, 21.995485938523405, 173.77294322873468, 59.10594176220026, 15.74316725273478, 13.72749755952058, 25.921302316845548, 12.413825300725104, 81.29149312030248, 40.54863701780265, 127.37443971691411, 12.757621846552173, 11.078898020390563, 20.42542192053806, 113.89424845666163, 11.952459370670045, 24.473675119678443, 11.006616056954677, 119.22332594010575, 112.77678087487023, 87.3804736296035, 81.61393971831963, 425.92266755826233, 207.56686536659197, 478.12168522591367, 103.45982360678349, 113.41912394989231, 1089.0458113316954, 114.18805242882769, 151.92824382647692, 61.62867084790021, 95.6002127947234, 512.9033434431608, 141.7117943661005, 101.09084736521226, 173.7818677035384, 771.4043040907102, 114.15039908575278, 593.1896767766427, 223.01872414871016, 303.4604320084406, 898.1989018386508, 924.710519624452, 299.3588236244188, 138.28233451544133, 151.67474979350484, 354.9970303186583, 530.0721052547259, 43.593359883301716, 47.84980030137758, 25.27374791798333, 27.96136617194795, 26.070194353276136, 22.228977390044044, 13.893819268083773, 51.83520253557816, 530.0721052547259, 25.55695709297413, 22.589739573836287, 29.15646592101762, 12.33861911318635, 139.15406068749004, 71.45442006921314, 11.505779326123507, 14.539131083955255, 40.466127873093455, 13.975190454212452, 22.77888399400141, 12.687053520672997, 56.676790136851224, 19.275672357861968, 33.897850496836845, 924.710519624452, 10.81568489242771, 27.733463587625536, 21.615481295196897, 22.48491785715754, 14.070761088261067, 43.92913843662078, 168.14498542421038, 209.11907206014843, 230.23184861606407, 104.17857133144602, 771.4043040907102, 71.25673899837332, 74.89397166493528, 306.6986772024145, 120.65996354378805, 81.3800812130663, 97.82758308763684, 61.03149854446774, 593.1896767766427, 132.08732666244305, 512.9033434431608, 109.0697626558856, 1089.0458113316954, 299.3588236244188, 118.58777333202522, 223.01872414871016, 303.4604320084406, 898.1989018386508, 112.98154679965808, 353.839860425699, 354.9970303186583, 478.12168522591367, 154.61037994639196, 158.1723251793734, 196.92695152725534, 173.7818677035384, 254.61703967988194, 76.47818849969089, 99.54391319445234, 49.68515426854391, 20.202560962252658, 13.671798032042988, 175.41934133478176, 22.524421628918574, 128.84099847976836, 156.60261234435805, 51.94985960087663, 34.01187055640241, 254.61703967988194, 14.77587928808174, 10.139464573988544, 35.73794730437731, 16.477213667696017, 103.32256503942165, 130.38754477094716, 120.23967705296948, 13.659691037569388, 37.74760533238762, 898.1989018386508, 11.585665264533215, 13.274162062990191, 51.28149331766102, 19.930553242782917, 47.720613544666634, 353.839860425699, 20.28764728803201, 10.184823193400657, 41.11585489013881, 219.28715044883523, 354.9970303186583, 95.97379905434595, 87.03131889028907, 166.70913333898815, 72.32948536244527, 196.92695152725534, 84.0329137832501, 593.1896767766427, 151.67474979350484, 299.3588236244188, 1089.0458113316954, 154.61037994639196, 303.4604320084406, 425.92266755826233, 306.6986772024145, 771.4043040907102, 478.12168522591367, 209.11907206014843], \"Category\": [\"Default\", \"Default\", \"Default\", \"Default\", \"Default\", \"Default\", \"Default\", \"Default\", \"Default\", \"Default\", \"Default\", \"Default\", \"Default\", \"Default\", \"Default\", \"Default\", \"Default\", \"Default\", \"Default\", \"Default\", \"Default\", \"Default\", \"Default\", \"Default\", \"Default\", \"Default\", \"Default\", \"Default\", \"Default\", \"Default\", \"Topic1\", \"Topic1\", \"Topic1\", \"Topic1\", \"Topic1\", \"Topic1\", \"Topic1\", \"Topic1\", \"Topic1\", \"Topic1\", \"Topic1\", \"Topic1\", \"Topic1\", \"Topic1\", \"Topic1\", \"Topic1\", \"Topic1\", \"Topic1\", \"Topic1\", \"Topic1\", \"Topic1\", \"Topic1\", \"Topic1\", \"Topic1\", \"Topic1\", \"Topic1\", \"Topic1\", \"Topic1\", \"Topic1\", \"Topic1\", \"Topic1\", \"Topic1\", \"Topic1\", \"Topic1\", \"Topic1\", \"Topic1\", \"Topic1\", \"Topic1\", \"Topic1\", \"Topic1\", \"Topic1\", \"Topic1\", \"Topic1\", \"Topic1\", \"Topic1\", \"Topic1\", \"Topic1\", \"Topic1\", \"Topic1\", \"Topic1\", \"Topic1\", \"Topic1\", \"Topic1\", \"Topic1\", \"Topic1\", \"Topic1\", \"Topic1\", \"Topic1\", \"Topic1\", \"Topic1\", \"Topic2\", \"Topic2\", \"Topic2\", \"Topic2\", \"Topic2\", \"Topic2\", \"Topic2\", \"Topic2\", \"Topic2\", \"Topic2\", \"Topic2\", \"Topic2\", \"Topic2\", \"Topic2\", \"Topic2\", \"Topic2\", \"Topic2\", \"Topic2\", \"Topic2\", \"Topic2\", \"Topic2\", \"Topic2\", \"Topic2\", \"Topic2\", \"Topic2\", \"Topic2\", \"Topic2\", \"Topic2\", \"Topic2\", \"Topic2\", \"Topic2\", \"Topic2\", \"Topic2\", \"Topic2\", \"Topic2\", \"Topic2\", \"Topic2\", \"Topic2\", \"Topic2\", \"Topic2\", \"Topic2\", \"Topic2\", \"Topic2\", \"Topic2\", \"Topic2\", \"Topic2\", \"Topic2\", \"Topic2\", \"Topic2\", \"Topic2\", \"Topic2\", \"Topic2\", \"Topic2\", \"Topic2\", \"Topic2\", \"Topic2\", \"Topic2\", \"Topic2\", \"Topic2\", \"Topic2\", \"Topic2\", \"Topic2\", \"Topic3\", \"Topic3\", \"Topic3\", \"Topic3\", \"Topic3\", \"Topic3\", \"Topic3\", \"Topic3\", \"Topic3\", \"Topic3\", \"Topic3\", \"Topic3\", \"Topic3\", \"Topic3\", \"Topic3\", \"Topic3\", \"Topic3\", \"Topic3\", \"Topic3\", \"Topic3\", \"Topic3\", \"Topic3\", \"Topic3\", \"Topic3\", \"Topic3\", \"Topic3\", \"Topic3\", \"Topic3\", \"Topic3\", \"Topic3\", \"Topic3\", \"Topic3\", \"Topic3\", \"Topic3\", \"Topic3\", \"Topic3\", \"Topic3\", \"Topic3\", \"Topic3\", \"Topic3\", \"Topic3\", \"Topic3\", \"Topic3\", \"Topic3\", \"Topic3\", \"Topic3\", \"Topic3\", \"Topic3\", \"Topic3\", \"Topic3\"], \"logprob\": [30.0, 29.0, 28.0, 27.0, 26.0, 25.0, 24.0, 23.0, 22.0, 21.0, 20.0, 19.0, 18.0, 17.0, 16.0, 15.0, 14.0, 13.0, 12.0, 11.0, 10.0, 9.0, 8.0, 7.0, 6.0, 5.0, 4.0, 3.0, 2.0, 1.0, -4.733099937438965, -4.4654998779296875, -5.2515997886657715, -5.655700206756592, -5.5553998947143555, -5.6269001960754395, -6.2368998527526855, -5.741399765014648, -6.221199989318848, -6.104499816894531, -6.799300193786621, -6.458199977874756, -5.908400058746338, -6.287700176239014, -4.227799892425537, -5.311500072479248, -6.6350998878479, -6.7804999351501465, -6.155399799346924, -6.89300012588501, -5.014400005340576, -5.71150016784668, -4.56820011138916, -6.877399921417236, -7.034999847412109, -6.424600124359131, -4.712800025939941, -6.969099998474121, -6.262499809265137, -7.068299770355225, -4.6930999755859375, -4.752900123596191, -5.006899833679199, -5.0767998695373535, -3.460400104522705, -4.179999828338623, -3.3889999389648438, -4.859899997711182, -4.772900104522705, -2.806299924850464, -4.8221001625061035, -4.568399906158447, -5.378799915313721, -5.002699851989746, -3.6019999980926514, -4.68149995803833, -4.970600128173828, -4.594099998474121, -3.6185998916625977, -4.959799766540527, -3.890500068664551, -4.605500221252441, -4.446499824523926, -3.9860000610351562, -4.0721001625061035, -4.657199859619141, -4.921800136566162, -4.910699844360352, -4.89769983291626, -4.931099891662598, -5.432199954986572, -5.374000072479248, -6.060800075531006, -5.961999893188477, -6.041200160980225, -6.204699993133545, -6.679200172424316, -5.371200084686279, -3.064300060272217, -6.099400043487549, -6.2434000968933105, -5.990900039672852, -6.85230016708374, -4.430799961090088, -5.097899913787842, -6.924300193786621, -6.693299770355225, -5.675099849700928, -6.745500087738037, -6.2596001625061035, -6.847300052642822, -5.355100154876709, -6.437900066375732, -5.878799915313721, -2.575500011444092, -7.0269999504089355, -6.091599941253662, -6.351200103759766, -6.3379998207092285, -6.8119001388549805, -5.680799961090088, -4.376500129699707, -4.221399784088135, -4.145699977874756, -4.89900016784668, -3.0727999210357666, -5.249499797821045, -5.206600189208984, -3.9237000942230225, -4.785299777984619, -5.154399871826172, -5.030099868774414, -5.4319000244140625, -3.57450008392334, -4.803100109100342, -3.759500026702881, -4.988800048828125, -3.247299909591675, -4.255099773406982, -4.9670000076293945, -4.534800052642822, -4.350599765777588, -4.033699989318848, -5.1367998123168945, -4.604100227355957, -4.658999919891357, -4.570199966430664, -5.026500225067139, -5.031099796295166, -5.003900051116943, -5.05049991607666, -5.06689977645874, -4.342800140380859, -4.080900192260742, -4.780900001525879, -5.751299858093262, -6.149600028991699, -3.621999979019165, -5.710000038146973, -3.9721999168395996, -3.8015999794006348, -4.9116997718811035, -5.479000091552734, -3.503700017929077, -6.357699871063232, -6.736199855804443, -5.477799892425537, -6.260200023651123, -4.4440999031066895, -4.21589994430542, -4.302199840545654, -6.4899001121521, -5.473700046539307, -2.3266000747680664, -6.6921000480651855, -6.559999942779541, -5.209499835968018, -6.156499862670898, -5.284599781036377, -3.2852001190185547, -6.152100086212158, -6.876999855041504, -5.492400169372559, -3.845400094985962, -3.3763999938964844, -4.751100063323975, -4.9054999351501465, -4.371500015258789, -5.126200199127197, -4.360899925231934, -5.127299785614014, -3.785099983215332, -4.734799861907959, -4.359099864959717, -3.7441999912261963, -4.7546000480651855, -4.432499885559082, -4.3368000984191895, -4.561600208282471, -4.389900207519531, -4.66949987411499, -5.015699863433838], \"loglift\": [30.0, 29.0, 28.0, 27.0, 26.0, 25.0, 24.0, 23.0, 22.0, 21.0, 20.0, 19.0, 18.0, 17.0, 16.0, 15.0, 14.0, 13.0, 12.0, 11.0, 10.0, 9.0, 8.0, 7.0, 6.0, 5.0, 4.0, 3.0, 2.0, 1.0, 0.92, 0.8716, 0.8668, 0.8581, 0.8493, 0.8322, 0.8058, 0.7951, 0.792, 0.79, 0.7895, 0.7768, 0.7491, 0.7422, 0.7352, 0.73, 0.7293, 0.7208, 0.7102, 0.709, 0.7083, 0.7067, 0.7055, 0.6972, 0.6807, 0.6793, 0.6727, 0.6707, 0.6606, 0.6539, 0.6466, 0.6424, 0.6436, 0.6419, 0.6061, 0.6053, 0.5619, 0.6216, 0.6167, 0.3213, 0.5608, 0.529, 0.6208, 0.5578, 0.2786, 0.4855, 0.5341, 0.3688, -0.1461, 0.4234, -0.1553, 0.1079, -0.0411, -0.6656, -0.7808, -0.2381, 0.2697, 0.1883, -0.649, -1.0834, 0.9136, 0.8786, 0.8301, 0.8279, 0.8188, 0.8146, 0.8101, 0.8015, 0.7834, 0.7804, 0.7598, 0.7571, 0.7557, 0.7543, 0.7538, 0.7536, 0.7506, 0.7451, 0.7379, 0.7353, 0.7329, 0.7282, 0.7239, 0.7186, 0.7158, 0.7127, 0.7065, 0.6961, 0.6699, 0.6647, 0.6574, 0.6194, 0.5564, 0.536, 0.5756, 0.3997, 0.605, 0.5981, 0.4712, 0.5425, 0.5672, 0.5075, 0.5774, 0.1607, 0.4342, 0.1211, 0.4399, -0.1196, 0.164, 0.3781, 0.1787, 0.0549, -0.7134, 0.2567, -0.3522, -0.4103, -0.6193, 0.0533, 0.0259, -0.166, -0.0875, -0.4859, 1.4409, 1.4393, 1.4341, 1.3637, 1.3558, 1.3316, 1.2961, 1.29, 1.2654, 1.2588, 1.1151, 1.0773, 1.0701, 1.0681, 1.0668, 1.0585, 1.0388, 1.0343, 1.0291, 1.0164, 1.0161, 0.9937, 0.9789, 0.9749, 0.9739, 0.972, 0.9708, 0.9667, 0.9586, 0.9229, 0.912, 0.8849, 0.8722, 0.8056, 0.749, 0.633, 0.7133, 0.477, 0.5622, -0.0499, 0.3642, 0.0599, -0.6165, 0.3252, -0.027, -0.2703, -0.1668, -0.9174, -0.7187, -0.2379]}, \"token.table\": {\"Topic\": [1, 2, 3, 1, 2, 3, 1, 2, 3, 1, 2, 3, 1, 2, 3, 1, 2, 3, 1, 2, 3, 1, 2, 3, 1, 2, 3, 1, 2, 3, 1, 2, 3, 1, 2, 3, 1, 2, 3, 1, 2, 3, 1, 2, 3, 1, 2, 1, 2, 3, 1, 2, 3, 1, 2, 3, 1, 2, 3, 1, 2, 3, 1, 2, 3, 1, 2, 3, 1, 2, 3, 1, 2, 3, 1, 2, 3, 1, 2, 3, 1, 2, 3, 1, 2, 3, 1, 2, 3, 1, 2, 3, 1, 2, 3, 1, 2, 3, 1, 2, 3, 1, 2, 3, 1, 2, 3, 1, 2, 3, 1, 2, 3, 1, 2, 3, 1, 2, 3, 1, 2, 3, 1, 2, 3, 1, 2, 3, 1, 2, 3, 1, 2, 3, 1, 2, 3, 1, 2, 3, 1, 2, 3, 1, 2, 3, 1, 2, 3, 1, 2, 3, 1, 2, 3, 1, 2, 3, 1, 2, 3, 1, 2, 3, 1, 2, 3, 1, 2, 3, 1, 2, 3, 1, 2, 3, 1, 2, 3, 1, 2, 3, 1, 2, 3, 1, 2, 3, 1, 2, 3, 1, 2, 3, 1, 2, 3, 1, 2, 3, 1, 2, 3, 1, 2, 3, 1, 2, 3, 1, 2, 3, 1, 2, 3, 1, 2, 3, 1, 2, 3, 1, 2, 3, 1, 2, 3, 1, 2, 3, 1, 2, 3, 1, 2, 3, 1, 2, 3, 1, 2, 3, 1, 2, 3, 1, 2, 3, 1, 2, 3, 1, 2, 3, 1, 2, 3, 1, 2, 3, 1, 2, 3, 1, 2, 3, 1, 2, 3, 1, 2, 3, 1, 2, 3, 1, 2, 3, 1, 2, 3, 1, 2, 3, 1, 2, 3, 1, 2, 3, 1, 2, 3, 1, 2, 3, 1, 2, 3, 1, 2, 3, 1, 2, 3, 1, 2, 3, 1, 2, 3, 1, 2, 3, 1, 2, 3, 1, 2, 3, 1, 2, 3, 1, 2, 3, 1, 2, 3, 1, 2, 3, 1, 2, 3, 1, 2, 3, 1, 2, 3, 1, 2, 3, 1, 2, 3, 1, 2, 3, 1, 2, 3, 1, 2, 3, 1, 2, 3, 1, 2, 3, 1, 2, 3, 1, 2, 3, 1, 2, 3, 1, 2, 3, 1, 2, 3, 1, 2, 3, 1, 2, 3, 1, 2, 3, 1, 2, 3, 1, 2, 3, 1, 2, 3, 1, 2, 3, 1, 2, 3, 1, 2, 3, 1, 2, 3, 1, 2, 3, 1, 2, 3, 1, 2, 3, 1, 2, 3, 1, 2, 3, 1, 2, 3, 1, 2, 3], \"Freq\": [0.9001877957233116, 0.04865879976882766, 0.04865879976882766, 0.6830837232171609, 0.2014221235127526, 0.11384728720286016, 0.10586344049323292, 0.7939758036992469, 0.10586344049323292, 0.20581049749650765, 0.08820449892707471, 0.6762344917742394, 0.14423009182974067, 0.7932655050635736, 0.07211504591487033, 0.5957053198641611, 0.2715715428792499, 0.14016595761509673, 0.16209269300343251, 0.8104634650171626, 0.08104634650171626, 0.08631355879590828, 0.25894067638772483, 0.604194911571358, 0.08853577056357145, 0.8410898203539289, 0.08853577056357145, 0.7351685288944823, 0.18379213222362056, 0.08576966170435626, 0.7850868684662874, 0.10991216158528024, 0.10206129290061736, 0.8183497309543128, 0.13639162182571882, 0.04546387394190627, 0.7464982149945301, 0.16775240786393936, 0.08387620393196968, 0.8992070263013466, 0.07707488796868685, 0.025691629322895617, 0.7638664917579638, 0.11414097003279919, 0.12292104465070681, 0.8055534662160816, 0.16111069324321634, 0.8371626076808837, 0.05581084051205892, 0.11162168102411783, 0.8749888658409423, 0.046052045570575906, 0.09210409114115181, 0.13565458663207694, 0.2713091732641539, 0.5963149537368383, 0.5639253467293964, 0.35101475663768555, 0.08631510409123415, 0.33378868134712014, 0.45179478081327373, 0.21578258188096658, 0.01929190880104364, 0.8488439872459203, 0.13504336160730548, 0.09796454849426482, 0.8117062589524799, 0.09796454849426482, 0.1784342196809988, 0.7861919861096128, 0.03568684393619976, 0.12356012949102986, 0.815496854640797, 0.07413607769461791, 0.32130267515943006, 0.27370227883951453, 0.3927032696393034, 0.23842572053909755, 0.13245873363283198, 0.6358019214375935, 0.1201698855051337, 0.6943148940296614, 0.18693093300798574, 0.14213872209574768, 0.7817629715266122, 0.07106936104787384, 0.08691284368104746, 0.7822155931294271, 0.08691284368104746, 0.20281859804677851, 0.25634017253134506, 0.5408495947914094, 0.3512195529511847, 0.05017422185016924, 0.6020906622020309, 0.3357513026911293, 0.5729809876041666, 0.09074359532192684, 0.1849166298659683, 0.7396665194638732, 0.09245831493298415, 0.13755980247039054, 0.8253588148223433, 0.06877990123519527, 0.17639721677714143, 0.19173610519254503, 0.6365638692392496, 0.12639128235970437, 0.3906639636572681, 0.48258489628250767, 0.043900306980067146, 0.7902055256412087, 0.13170092094020144, 0.0899726498842796, 0.8547401739006562, 0.0449863249421398, 0.11738486663675352, 0.8216940664572746, 0.03912828887891784, 0.6799148045786321, 0.09414204986473367, 0.2196647830177119, 0.20303360236705556, 0.13535573491137037, 0.6767786745568519, 0.7229821316220619, 0.22042138159209207, 0.05290113158210209, 0.8257550587694952, 0.12703923981069157, 0.06351961990534578, 0.2035730670317713, 0.495656163207791, 0.30093409909044455, 0.2388896250914369, 0.6558606070692177, 0.10424274549444519, 0.6627701888574363, 0.25719440164616936, 0.07913673896805211, 0.18206961811034678, 0.18206961811034678, 0.6675885997379382, 0.11060496227661173, 0.4285942288218705, 0.45624546939102345, 0.1602188781030848, 0.5649823596266674, 0.2782748935474631, 0.182379156837841, 0.6815221123940374, 0.1343846418805144, 0.07152726328538576, 0.894090791067322, 0.07152726328538576, 0.23400254601921425, 0.1755019095144107, 0.6045065772163035, 0.22004819178314045, 0.7136698111885637, 0.065419732692285, 0.14641619598124386, 0.2196242939718658, 0.6588728819155975, 0.8735745422947265, 0.07941586748133878, 0.03970793374066939, 0.13719083824615982, 0.823145029476959, 0.034297709561539956, 0.1257318285395468, 0.27241896183568476, 0.6077038379411429, 0.333424333675483, 0.15629265641038267, 0.5105560109405833, 0.2781184550151768, 0.40747587595246826, 0.31045781024949964, 0.30732349521597846, 0.4543042972757942, 0.24051403973424398, 0.811403647657644, 0.1381112591757692, 0.05179172219091344, 0.6350918101247987, 0.2752064510540794, 0.09173548368469313, 0.020898728807677184, 0.9195440675377962, 0.04179745761535437, 0.9285591744893199, 0.03346159187348901, 0.041826989841861256, 0.37237144642586206, 0.4053246717732835, 0.22078660982772355, 0.07314326891432064, 0.07314326891432064, 0.8777192269718477, 0.1638498191669662, 0.688169240501258, 0.1638498191669662, 0.07671596049105281, 0.8822335456471072, 0.038357980245526405, 0.08850118683129903, 0.7965106814816912, 0.11800158244173203, 0.1576410154446884, 0.7882050772234419, 0.0788205077223442, 0.34503754430556405, 0.049291077757937715, 0.5914929330952526, 0.789175724598353, 0.1726321897558897, 0.02466174139369853, 0.24034484304709547, 0.6630202566816427, 0.0994530385022464, 0.537167485438153, 0.34066519161975173, 0.12212525737311854, 0.468106920213561, 0.2043847116425407, 0.32305970549949986, 0.7833375517159705, 0.19583438792899263, 0.04895859698224816, 0.13205750558475726, 0.8413949641543105, 0.026411501116951452, 0.2918547660864091, 0.15960807520350495, 0.547227686412017, 0.18926872571120298, 0.5905184242189533, 0.21955172182499544, 0.09818667294000169, 0.23564801505600405, 0.6637419090744114, 0.19637061557395685, 0.19637061557395685, 0.5891118467218706, 0.09862453709492391, 0.19724907418984783, 0.6903717596644674, 0.11494061133807446, 0.08301266374416488, 0.8045842793665212, 0.13658360290076169, 0.7512098159541892, 0.11381966908396807, 0.07410813369313676, 0.06840750802443395, 0.8550938503054243, 0.658205462535418, 0.26328218501416717, 0.07898465550425016, 0.1850525530925294, 0.78647335064325, 0.04626313827313235, 0.3300639803680491, 0.5959488534423109, 0.0733475511928998, 0.8494931218815499, 0.04471016430955526, 0.08942032861911052, 0.9225535871362482, 0.05426785806683813, 0.027133929033419064, 0.7268355649550521, 0.18170889123876302, 0.09085444561938151, 0.09899735007541305, 0.049498675037706524, 0.8909761506787175, 0.15066864413055628, 0.22600296619583443, 0.6026745765222251, 0.15302286723420386, 0.6694750441496419, 0.1769326902395482, 0.7301796287487713, 0.21094078163853394, 0.06490485588877967, 0.22237128157478986, 0.7560623573542855, 0.04447425631495797, 0.7137445906384299, 0.11269651431133103, 0.173740459563302, 0.022939273381931878, 0.9634494820411389, 0.022939273381931878, 0.2032469866769923, 0.15485484699199412, 0.6387762438419757, 0.20040104661844102, 0.18815431599175853, 0.6112231921862451, 0.39197754682868613, 0.39197754682868613, 0.21495542890605368, 0.5147168630794002, 0.4328300894076775, 0.05264149736039321, 0.787290250718941, 0.14761692200980142, 0.06150705083741726, 0.8101444805245249, 0.15431323438562378, 0.07715661719281189, 0.7249190785889038, 0.26097086829200533, 0.009665587714518717, 0.7359670967385689, 0.2216768363670388, 0.03546829381872621, 0.3648227682503468, 0.07296455365006936, 0.5593949113171984, 0.8123551623487842, 0.18052336941084093, 0.09026168470542047, 0.3299159374079548, 0.24593733515865718, 0.4258914828357234, 0.12288019194547584, 0.6758410557001171, 0.19660830711276134, 0.43494105873962335, 0.4573607009426967, 0.10761428257475217, 0.22454016595350026, 0.7016880186046883, 0.07016880186046884, 0.7529831075673815, 0.16732957945941812, 0.08366478972970906, 0.07197444998418491, 0.8636933998102189, 0.07197444998418491, 0.8605434729572878, 0.0832784006087698, 0.05551893373917986, 0.8745745645169444, 0.07950677859244949, 0.07950677859244949, 0.9319425668071853, 0.03654676732577197, 0.03654676732577197, 0.15809815316426337, 0.8192358845784556, 0.028745118757138793, 0.5062107191441972, 0.368810666805058, 0.12293688893501932, 0.08316722270964413, 0.28276855721279004, 0.6320708925932954, 0.8121010945586051, 0.13535018242643418, 0.05075631840991282, 0.30975953025686986, 0.32499360551540446, 0.36561780620483003, 0.8013113790263289, 0.14569297800478706, 0.07284648900239353, 0.11244272476961713, 0.6337680850651147, 0.2555516472036753, 0.7838451492197633, 0.15676902984395266, 0.07838451492197633, 0.7130232454906105, 0.22643305768958577, 0.05781269558031977, 0.05433053207127385, 0.12418407330576879, 0.8227194856507183, 0.10375772958105195, 0.7781829718578895, 0.10375772958105195, 0.7354841441662685, 0.12258069069437809, 0.12258069069437809, 0.2798146159551577, 0.05596292319103154, 0.6715550782923785, 0.1923712242197291, 0.6162400233479458, 0.1923712242197291, 0.07155537545454892, 0.787109130000038, 0.14311075090909783, 0.08879251298653756, 0.08879251298653756, 0.8435288733721068, 0.07913349482198943, 0.8704684430418838, 0.03956674741099472, 0.681834792425205, 0.20706025904937203, 0.11085044171330018, 0.7438732854153213, 0.1831072702560791, 0.0801094307370346, 0.020126736340498965, 0.020126736340498965, 0.9459566080034514, 0.02615124703180023, 0.013075623515900116, 0.9545205166607085, 0.8145155448011614, 0.06265504190778165, 0.1253100838155633, 0.9753618316504737, 0.011474845078240868, 0.011474845078240868, 0.02009163529761116, 0.03013745294641674, 0.9543526766365301, 0.07699732069983307, 0.13474531122470787, 0.789222537173289], \"Term\": [\"\\\"\", \"\\\"\", \"\\\"\", \"1\", \"1\", \"1\", \"10\", \"10\", \"10\", \"100\", \"100\", \"100\", \"13\", \"13\", \"13\", \"2\", \"2\", \"2\", \"24\", \"24\", \"24\", \"30\", \"30\", \"30\", \"38k\", \"38k\", \"38k\", \"4\", \"4\", \"4\", \"5\", \"5\", \"5\", \"5s\", \"5s\", \"5s\", \"6\", \"6\", \"6\", \"6s\", \"6s\", \"6s\", \"7\", \"7\", \"7\", \"999\", \"999\", \"accessori\", \"accessori\", \"accessori\", \"amaz\", \"amaz\", \"amaz\", \"amazon\", \"amazon\", \"amazon\", \"android\", \"android\", \"android\", \"appl\", \"appl\", \"appl\", \"awesom\", \"awesom\", \"awesom\", \"backup\", \"backup\", \"backup\", \"batteri\", \"batteri\", \"batteri\", \"beast\", \"beast\", \"beast\", \"bit\", \"bit\", \"bit\", \"box\", \"box\", \"box\", \"budget\", \"budget\", \"budget\", \"butter\", \"butter\", \"butter\", \"butteri\", \"butteri\", \"butteri\", \"buy\", \"buy\", \"buy\", \"cabl\", \"cabl\", \"cabl\", \"camera\", \"camera\", \"camera\", \"capac\", \"capac\", \"capac\", \"centr\", \"centr\", \"centr\", \"charg\", \"charg\", \"charg\", \"charger\", \"charger\", \"charger\", \"choic\", \"choic\", \"choic\", \"clariti\", \"clariti\", \"clariti\", \"class\", \"class\", \"class\", \"come\", \"come\", \"come\", \"comment\", \"comment\", \"comment\", \"compar\", \"compar\", \"compar\", \"comparison\", \"comparison\", \"comparison\", \"d\", \"d\", \"d\", \"day\", \"day\", \"day\", \"deal\", \"deal\", \"deal\", \"defect\", \"defect\", \"defect\", \"deliv\", \"deliv\", \"deliv\", \"deliveri\", \"deliveri\", \"deliveri\", \"devic\", \"devic\", \"devic\", \"disappoint\", \"disappoint\", \"disappoint\", \"discount\", \"discount\", \"discount\", \"display\", \"display\", \"display\", \"doubt\", \"doubt\", \"doubt\", \"e\", \"e\", \"e\", \"enjoy\", \"enjoy\", \"enjoy\", \"excel\", \"excel\", \"excel\", \"expect\", \"expect\", \"expect\", \"experi\", \"experi\", \"experi\", \"face\", \"face\", \"face\", \"featur\", \"featur\", \"featur\", \"feel\", \"feel\", \"feel\", \"finger\", \"finger\", \"finger\", \"fingerprint\", \"fingerprint\", \"fingerprint\", \"get\", \"get\", \"get\", \"gift\", \"gift\", \"gift\", \"go\", \"go\", \"go\", \"great\", \"great\", \"great\", \"gud\", \"gud\", \"gud\", \"guy\", \"guy\", \"guy\", \"handl\", \"handl\", \"handl\", \"improv\", \"improv\", \"improv\", \"io\", \"io\", \"io\", \"iphon\", \"iphon\", \"iphon\", \"issu\", \"issu\", \"issu\", \"job\", \"job\", \"job\", \"life\", \"life\", \"life\", \"like\", \"like\", \"like\", \"look\", \"look\", \"look\", \"love\", \"love\", \"love\", \"manag\", \"manag\", \"manag\", \"meet\", \"meet\", \"meet\", \"mobil\", \"mobil\", \"mobil\", \"model\", \"model\", \"model\", \"money\", \"money\", \"money\", \"month\", \"month\", \"month\", \"nd\", \"nd\", \"nd\", \"need\", \"need\", \"need\", \"number\", \"number\", \"number\", \"ok\", \"ok\", \"ok\", \"ole\", \"ole\", \"ole\", \"osm\", \"osm\", \"osm\", \"penni\", \"penni\", \"penni\", \"perform\", \"perform\", \"perform\", \"plus\", \"plus\", \"plus\", \"power\", \"power\", \"power\", \"price\", \"price\", \"price\", \"print\", \"print\", \"print\", \"problem\", \"problem\", \"problem\", \"product\", \"product\", \"product\", \"purchas\", \"purchas\", \"purchas\", \"qualiti\", \"qualiti\", \"qualiti\", \"rang\", \"rang\", \"rang\", \"rate\", \"rate\", \"rate\", \"reader\", \"reader\", \"reader\", \"receiv\", \"receiv\", \"receiv\", \"recommend\", \"recommend\", \"recommend\", \"reduc\", \"reduc\", \"reduc\", \"s\", \"s\", \"s\", \"sale\", \"sale\", \"sale\", \"screen\", \"screen\", \"screen\", \"servic\", \"servic\", \"servic\", \"set\", \"set\", \"set\", \"smooth\", \"smooth\", \"smooth\", \"star\", \"star\", \"star\", \"stick\", \"stick\", \"stick\", \"super\", \"super\", \"super\", \"superb\", \"superb\", \"superb\", \"t\", \"t\", \"t\", \"thank\", \"thank\", \"thank\", \"till\", \"till\", \"till\", \"time\", \"time\", \"time\", \"turn\", \"turn\", \"turn\", \"u\", \"u\", \"u\", \"understand\", \"understand\", \"understand\", \"use\", \"use\", \"use\", \"valu\", \"valu\", \"valu\", \"voic\", \"voic\", \"voic\", \"way\", \"way\", \"way\", \"word\", \"word\", \"word\", \"work\", \"work\", \"work\", \"world\", \"world\", \"world\", \"worth\", \"worth\", \"worth\", \"wow\", \"wow\", \"wow\", \"xr\", \"xr\", \"xr\", \"year\", \"year\", \"year\", \"\\u2764\", \"\\u2764\", \"\\u2764\", \"\\ufe0f\", \"\\ufe0f\", \"\\ufe0f\", \"\\ud83c\\udffb\", \"\\ud83c\\udffb\", \"\\ud83c\\udffb\", \"\\ud83d\\udc4c\", \"\\ud83d\\udc4c\", \"\\ud83d\\udc4c\", \"\\ud83d\\udc4d\", \"\\ud83d\\udc4d\", \"\\ud83d\\udc4d\", \"\\ud83d\\ude0d\", \"\\ud83d\\ude0d\", \"\\ud83d\\ude0d\"]}, \"R\": 30, \"lambda.step\": 0.01, \"plot.opts\": {\"xlab\": \"PC1\", \"ylab\": \"PC2\"}, \"topic.order\": [1, 3, 2]};\n",
       "\n",
       "function LDAvis_load_lib(url, callback){\n",
       "  var s = document.createElement('script');\n",
       "  s.src = url;\n",
       "  s.async = true;\n",
       "  s.onreadystatechange = s.onload = callback;\n",
       "  s.onerror = function(){console.warn(\"failed to load library \" + url);};\n",
       "  document.getElementsByTagName(\"head\")[0].appendChild(s);\n",
       "}\n",
       "\n",
       "if(typeof(LDAvis) !== \"undefined\"){\n",
       "   // already loaded: just create the visualization\n",
       "   !function(LDAvis){\n",
       "       new LDAvis(\"#\" + \"ldavis_el1385711404025656585762408833094\", ldavis_el1385711404025656585762408833094_data);\n",
       "   }(LDAvis);\n",
       "}else if(typeof define === \"function\" && define.amd){\n",
       "   // require.js is available: use it to load d3/LDAvis\n",
       "   require.config({paths: {d3: \"https://cdnjs.cloudflare.com/ajax/libs/d3/3.5.5/d3.min\"}});\n",
       "   require([\"d3\"], function(d3){\n",
       "      window.d3 = d3;\n",
       "      LDAvis_load_lib(\"https://cdn.rawgit.com/bmabey/pyLDAvis/files/ldavis.v1.0.0.js\", function(){\n",
       "        new LDAvis(\"#\" + \"ldavis_el1385711404025656585762408833094\", ldavis_el1385711404025656585762408833094_data);\n",
       "      });\n",
       "    });\n",
       "}else{\n",
       "    // require.js not available: dynamically load d3 & LDAvis\n",
       "    LDAvis_load_lib(\"https://cdnjs.cloudflare.com/ajax/libs/d3/3.5.5/d3.min.js\", function(){\n",
       "         LDAvis_load_lib(\"https://cdn.rawgit.com/bmabey/pyLDAvis/files/ldavis.v1.0.0.js\", function(){\n",
       "                 new LDAvis(\"#\" + \"ldavis_el1385711404025656585762408833094\", ldavis_el1385711404025656585762408833094_data);\n",
       "            })\n",
       "         });\n",
       "}\n",
       "</script>"
      ],
      "text/plain": [
       "<IPython.core.display.HTML object>"
      ]
     },
     "execution_count": 11,
     "metadata": {},
     "output_type": "execute_result"
    }
   ],
   "source": [
    "lda_model.visualize_topics_"
   ]
  },
  {
   "cell_type": "markdown",
   "metadata": {},
   "source": [
    "### Hyperparameter tuning"
   ]
  },
  {
   "cell_type": "code",
   "execution_count": 12,
   "metadata": {
    "ExecuteTime": {
     "end_time": "2020-09-30T15:17:48.025363Z",
     "start_time": "2020-09-30T15:08:50.422937Z"
    }
   },
   "outputs": [
    {
     "name": "stderr",
     "output_type": "stream",
     "text": [
      "tuning: 100%|██████████| 39/39 [08:00<00:00, 12.31s/it, max_coherence_score=0.495, best_params={'num_topics': 8, 'alpha': 'symmetric', 'beta': 'symmetric'}]\n"
     ]
    },
    {
     "name": "stdout",
     "output_type": "stream",
     "text": [
      "Finished hyperparameter tuning, model updated!\n"
     ]
    },
    {
     "data": {
      "image/png": "[encoded data removed]",
      "text/plain": [
       "<Figure size 1296x432 with 1 Axes>"
      ]
     },
     "metadata": {},
     "output_type": "display_data"
    }
   ],
   "source": [
    "lda_model.find_best_num_topics()"
   ]
  },
  {
   "cell_type": "code",
   "execution_count": null,
   "metadata": {
    "ExecuteTime": {
     "start_time": "2020-09-30T15:08:18.926Z"
    }
   },
   "outputs": [
    {
     "name": "stderr",
     "output_type": "stream",
     "text": [
      "tuning:  76%|███████▌  | 1070/1404 [2:27:35<28:20,  5.09s/it, max_coherence_score=0.517, best_params={'num_topics': 7, 'alpha': 'asymmetric', 'beta': 0.8}]                       "
     ]
    }
   ],
   "source": [
    "num_topic_range = range(2, 11)\n",
    "alpha_range = list(np.arange(0.0, 1.01, 0.1))\n",
    "alpha_range.append(\"symmetric\")\n",
    "alpha_range.append(\"asymmetric\")\n",
    "beta_range = list(np.arange(0.0, 1.01, 0.1))\n",
    "beta_range.append(\"symmetric\")\n",
    "\n",
    "lda_model.tune(num_topic_range=num_topic_range, alpha_range=alpha_range, beta_range=beta_range)"
   ]
  },
  {
   "cell_type": "code",
   "execution_count": null,
   "metadata": {
    "ExecuteTime": {
     "start_time": "2020-09-30T15:08:18.932Z"
    }
   },
   "outputs": [],
   "source": [
    "path = \"../app/models\"\n",
    "if not os.path.exists(path):\n",
    "    os.makedirs(path)\n",
    "    \n",
    "with open(os.path.join(path, 'lda_model.sav'), 'wb') as f:\n",
    "    pickle.dump(lda_model, f)"
   ]
  },
  {
   "cell_type": "markdown",
   "metadata": {},
   "source": [
    "## LDA Result & Post Modeling Analysis"
   ]
  },
  {
   "cell_type": "code",
   "execution_count": null,
   "metadata": {
    "ExecuteTime": {
     "start_time": "2020-09-30T15:08:18.939Z"
    },
    "scrolled": false
   },
   "outputs": [],
   "source": [
    "lda_model.fit(**lda_model.best_params_, predict_training_samples=True)\n",
    "\n",
    "lda_model.print_output()"
   ]
  },
  {
   "cell_type": "code",
   "execution_count": null,
   "metadata": {
    "ExecuteTime": {
     "start_time": "2020-09-30T15:08:18.947Z"
    }
   },
   "outputs": [],
   "source": [
    "topic_names = [\n",
    "    \"Apple/iPhone's product pricing, battery, camera, and quality\", #\n",
    "    \"Amazon's Product? (Unclear)\",\n",
    "    \"Battery life, camera, quality, display\", #\n",
    "    \"Satisfaction of switching from android to iPhone\", #\n",
    "    \"iPhone XR's camera, battery, screen, quality, etc.\", #\n",
    "    \"Something about iPhone and/or Amazon (Unclear)\", #\n",
    "    \"Comparing iPhone With other phones and/or very detailed reviews\" #\n",
    "]\n",
    "\n",
    "\n",
    "topics = '''\n",
    "Topic: 0\tCoherence Score: 0.4498\n",
    "Words: 0.103*\"product\" + 0.060*\"iphon\" + 0.037*\"appl\" + 0.037*\"price\" + 0.035*\"batteri\" + 0.031*\"camera\" + 0.029*\"qualiti\" + 0.022*\"xr\" + 0.017*\"life\" + 0.015*\"superb\"\n",
    "\n",
    "########\n",
    "\n",
    "Topic: 1\tCoherence Score: 0.3734\n",
    "Words: 0.059*\"product\" + 0.059*\"amazon\" + 0.052*\"love\" + 0.049*\"buy\" + 0.047*\"money\" + 0.033*\"valu\" + 0.027*\"mobil\" + 0.026*\"thank\" + 0.017*\"experi\" + 0.016*\"iphon\"\n",
    "\n",
    "########\n",
    "\n",
    "Topic: 2\tCoherence Score: 0.5568\n",
    "Words: 0.121*\"batteri\" + 0.085*\"life\" + 0.048*\"camera\" + 0.028*\"work\" + 0.025*\"face\" + 0.022*\"qualiti\" + 0.020*\"iphon\" + 0.015*\"display\" + 0.013*\"d\" + 0.013*\"perform\"\n",
    "\n",
    "########\n",
    "\n",
    "Topic: 3\tCoherence Score: 0.6137\n",
    "Words: 0.042*\"👍\" + 0.032*\"appl\" + 0.023*\"iphon\" + 0.023*\"👌\" + 0.021*\"android\" + 0.019*\"io\" + 0.018*\"user\" + 0.018*\"like\" + 0.015*\"batteri\" + 0.013*\"time\"\n",
    "\n",
    "########\n",
    "\n",
    "Topic: 4\tCoherence Score: 0.5056\n",
    "Words: 0.055*\"camera\" + 0.041*\"iphon\" + 0.036*\"qualiti\" + 0.031*\"xr\" + 0.018*\"batteri\" + 0.017*\"screen\" + 0.016*\"get\" + 0.016*\"buy\" + 0.015*\"work\" + 0.015*\"appl\"\n",
    "\n",
    "########\n",
    "\n",
    "Topic: 5\tCoherence Score: 0.3642\n",
    "Words: 0.039*\"s\" + 0.032*\"️\" + 0.031*\"expect\" + 0.030*\"appl\" + 0.028*\"iphon\" + 0.023*\"deliveri\" + 0.022*\"❤\" + 0.021*\"time\" + 0.018*\"amazon\" + 0.015*\"like\"\n",
    "\n",
    "########\n",
    "\n",
    "Topic: 6\tCoherence Score: 0.7580\n",
    "Words: 0.048*\"iphon\" + 0.021*\"t\" + 0.020*\"xr\" + 0.016*\"face\" + 0.014*\"3\" + 0.014*\"appl\" + 0.014*\"day\" + 0.014*\"7\" + 0.013*\"6\" + 0.013*\"2\"\n",
    "'''\n",
    "\n",
    "topics = re.findall('(Topic: \\d|Words:.*)', topics)\n",
    "\n",
    "assert len(topics) / 2 == len(topic_names), \"Number of given names doesn't match number of topics!\"\n",
    "\n",
    "topics = {k:', '.join(re.findall('\"\\w+\"', topics[i + 1])) for k, i in zip(topic_names, range(0, len(topics), 2))}\n",
    "\n",
    "for k, v in topics.items():\n",
    "    print('topic:', k)\n",
    "    print('words:', v, end='\\n*****\\n\\n')"
   ]
  },
  {
   "cell_type": "code",
   "execution_count": null,
   "metadata": {
    "ExecuteTime": {
     "start_time": "2020-09-30T15:08:18.953Z"
    }
   },
   "outputs": [],
   "source": [
    "lda_model.visualize_topics_"
   ]
  },
  {
   "cell_type": "code",
   "execution_count": null,
   "metadata": {
    "ExecuteTime": {
     "start_time": "2020-09-30T15:08:18.956Z"
    },
    "scrolled": false
   },
   "outputs": [],
   "source": [
    "lda_model.generate_topic_word_cloud(topic_names=list(topics.keys()))"
   ]
  },
  {
   "cell_type": "code",
   "execution_count": null,
   "metadata": {
    "ExecuteTime": {
     "start_time": "2020-09-30T15:08:18.962Z"
    }
   },
   "outputs": [],
   "source": [
    "df['topic_index'] = lda_model.training_samples_prediction_\n",
    "df['topic_names'] = df['topic_index'].apply(lambda x: topic_names[x])\n",
    "df.head()"
   ]
  },
  {
   "cell_type": "code",
   "execution_count": null,
   "metadata": {
    "ExecuteTime": {
     "start_time": "2020-09-30T15:08:18.969Z"
    },
    "scrolled": false
   },
   "outputs": [],
   "source": [
    "for name in topic_names:\n",
    "    print('topic:', name)\n",
    "    print('keywords:', topics[name])\n",
    "    print('sample texts:')\n",
    "    for i, text in enumerate(df[df['topic_names'] == name].sample(10)['text']):\n",
    "        print(f'{i+1}. {text}\\n')\n",
    "    print('*****\\n')"
   ]
  },
  {
   "cell_type": "code",
   "execution_count": null,
   "metadata": {
    "ExecuteTime": {
     "start_time": "2020-09-30T15:08:18.975Z"
    }
   },
   "outputs": [],
   "source": [
    "dates = []\n",
    "topics_count = []\n",
    "unique_dates = np.unique(df['date'].sort_values())\n",
    "\n",
    "\n",
    "for date in unique_dates:\n",
    "    dates.append(date)\n",
    "    topics = df.loc[df['date']==date, 'topic_index']\n",
    "    if type(topics)==np.float32:\n",
    "        topics = [topics]\n",
    "    count = np.zeros(len(np.unique(df['topic_index'])), np.uint32)\n",
    "    for idx in topics:\n",
    "        count[idx] += 1\n",
    "    topics_count.append(count)\n",
    "    \n",
    "# y = list(map(str, np.unique(df['topic_index'])))\n",
    "y = list(np.unique(df['topic_names']))\n",
    "df_ratings = pd.DataFrame(topics_count, dates, columns = y).resample('W').sum().reset_index()\n",
    "df_ratings.columns = ['period', *y]\n",
    "z = df_ratings['period'].copy()\n",
    "df_ratings['period'] = df_ratings['period'].map(lambda x: str(x)[:10] + ' - ' + str(pd.offsets.DateOffset(6) + x)[:10])\n",
    "df_ratings.head()"
   ]
  },
  {
   "cell_type": "code",
   "execution_count": null,
   "metadata": {
    "ExecuteTime": {
     "start_time": "2020-09-30T15:08:18.980Z"
    }
   },
   "outputs": [],
   "source": [
    "_ = df_ratings.iloc[:, 1:].sum().plot.bar(ylabel='Count', title='Topic Value Counts')"
   ]
  },
  {
   "cell_type": "code",
   "execution_count": null,
   "metadata": {
    "ExecuteTime": {
     "start_time": "2020-09-30T15:08:18.987Z"
    }
   },
   "outputs": [],
   "source": [
    "ticks = [\n",
    "    ['End of Q4 2018', (2019,1,1)], \n",
    "    *[[f'End of Q{i+1} 2019', (2019 if i < 3 else 2020, 4+i*3 if i < 3 else 1, 1)] for i in range(4)], \n",
    "    *[[f'End of Q{i+1} 2020', (2020, 4+i*3 , 1)] for i in range(2)], \n",
    "]\n",
    "\n",
    "ticktext, tickvals = [], []\n",
    "for i in ticks:\n",
    "    idx = np.where(z > pd.Timestamp(*i[1]))[0][0] - 1\n",
    "    ticktext.append(i[0])\n",
    "    tickvals.append(df_ratings['period'][idx])\n",
    "    \n",
    "# Generate figure\n",
    "fig = px.line(df_ratings, x='period', y=y)\n",
    "\n",
    "# Update plot title, legend, and barmode\n",
    "fig.update_layout(\n",
    "    title=dict(text='Product Review Count', x=0.5),\n",
    "    legend=dict(\n",
    "        title_text=\"Review Category\",\n",
    "#         orientation=\"h\",\n",
    "#         yanchor=\"bottom\",\n",
    "#         y=1.0,\n",
    "#         xanchor=\"right\",\n",
    "#         x=1.0\n",
    "    ),\n",
    "    barmode='stack'\n",
    ")\n",
    "\n",
    "# Update x-axis\n",
    "fig.update_xaxes(\n",
    "    title_text=\"Time\",\n",
    "    ticktext=ticktext,\n",
    "    tickvals=tickvals,\n",
    "    tickangle=-90,\n",
    "#     rangeslider_visible=True,\n",
    ")\n",
    "\n",
    "# Update y-axis\n",
    "fig.update_yaxes(title_text='Count')\n",
    "\n",
    "fig.show()"
   ]
  },
  {
   "cell_type": "code",
   "execution_count": null,
   "metadata": {},
   "outputs": [],
   "source": []
  }
 ],
 "metadata": {
  "kernelspec": {
   "display_name": "Python 3",
   "language": "python",
   "name": "python3"
  },
  "language_info": {
   "codemirror_mode": {
    "name": "ipython",
    "version": 3
   },
   "file_extension": ".py",
   "mimetype": "text/x-python",
   "name": "python",
   "nbconvert_exporter": "python",
   "pygments_lexer": "ipython3",
   "version": "3.7.8"
  },
  "toc": {
   "base_numbering": 1,
   "nav_menu": {},
   "number_sections": true,
   "sideBar": true,
   "skip_h1_title": false,
   "title_cell": "Table of Contents",
   "title_sidebar": "Contents",
   "toc_cell": false,
   "toc_position": {},
   "toc_section_display": true,
   "toc_window_display": true
  }
 },
 "nbformat": 4,
 "nbformat_minor": 4
}
